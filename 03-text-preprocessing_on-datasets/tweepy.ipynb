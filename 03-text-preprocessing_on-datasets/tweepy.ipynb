{
 "cells": [
  {
   "cell_type": "markdown",
   "metadata": {},
   "source": [
    "### Documents:\n",
    "https://www.loginradius.com/blog/async/beginners-guide-to-tweepy/\n",
    "\n",
    "https://github.com/tweepy/tweepy\n",
    "\n",
    "https://docs.tweepy.org/en/latest/index.html"
   ]
  },
  {
   "cell_type": "code",
   "execution_count": null,
   "metadata": {},
   "outputs": [],
   "source": [
    "###installing libraries\n",
    "#!pip install tweepy\n",
    "#!pip install pandas"
   ]
  },
  {
   "cell_type": "code",
   "execution_count": 2,
   "metadata": {},
   "outputs": [],
   "source": [
    "import tweepy\n",
    "import pandas as pd\n",
    "auth = tweepy.OAuthHandler('xFiSKTknPOyKNeKJaXvRf4wkc', 'xjKKcMNrQjdOJwQHH9vqk0m91uf26E6FhS0Jef99jM7zgnJ7Sk')\n",
    "auth.set_access_token('1889438252-kIY6byCr80quvNgdfMYpZRV0emTJvYuGAb3cb1A', 'vbztLYgtb0V09JjF1VM25W9V1IUDXlTEv2QGzWO41QOBM')\n",
    "api = tweepy.API(auth)"
   ]
  },
  {
   "cell_type": "code",
   "execution_count": 3,
   "metadata": {},
   "outputs": [],
   "source": [
    "class MyStreamListener(tweepy.StreamListener):\n",
    "\n",
    "    def on_status(self, status):\n",
    "        print(status.text)\n",
    "        \n",
    "    def on_error(self, status_code):\n",
    "        if status_code == 420:\n",
    "            return False\n",
    "        \n",
    "myStreamListener = MyStreamListener()\n",
    "myStream = tweepy.Stream(auth = api.auth, listener=myStreamListener)"
   ]
  },
  {
   "cell_type": "code",
   "execution_count": 4,
   "metadata": {},
   "outputs": [],
   "source": [
    "###Scrapping tweet by keyword\n",
    "#myStream.filter(track=['python'])\n",
    "###adding is_async=True to scrap in async mode\n",
    "#myStream.filter(track=['python'], is_async=True)\n",
    "\n",
    "\n",
    "###Scrapping tweet by user\n",
    "#myStream.filter(follow=[\"2211149702\"])\n",
    "\n",
    "###Scrapping tweets by hashtag, langauge, value\n",
    "#for tweet in tweepy.Cursor(api.search,q=\"#covid-19\",count=1,lang=\"en\",since=\"2017-04-03\").items():\n",
    "#for tweet in tweepy.Cursor(api.search,q=\"#covid-19\",count=1,lang=\"de\").items():\n",
    "#    print (tweet.created_at, tweet.text)\n",
    "\n",
    "\n",
    "#print(api.trends_place(1))\n"
   ]
  },
  {
   "cell_type": "code",
   "execution_count": 5,
   "metadata": {},
   "outputs": [],
   "source": [
    "##posting a tweet\n",
    "#api.update_status(\"Hello World! by tweepy\")"
   ]
  }
 ],
 "metadata": {
  "kernelspec": {
   "display_name": "Python 3",
   "language": "python",
   "name": "python3"
  },
  "language_info": {
   "codemirror_mode": {
    "name": "ipython",
    "version": 3
   },
   "file_extension": ".py",
   "mimetype": "text/x-python",
   "name": "python",
   "nbconvert_exporter": "python",
   "pygments_lexer": "ipython3",
   "version": "3.8.8"
  }
 },
 "nbformat": 4,
 "nbformat_minor": 4
}

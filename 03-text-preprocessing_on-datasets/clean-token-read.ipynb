{
 "cells": [
  {
   "cell_type": "markdown",
   "id": "0039d8f6-ad07-441a-8867-7182f9e65f1c",
   "metadata": {},
   "source": [
    "# Data Cleaning"
   ]
  },
  {
   "cell_type": "code",
   "execution_count": 46,
   "id": "a7240d7b-ab8f-4f3b-8947-47967adccfca",
   "metadata": {
    "tags": []
   },
   "outputs": [
    {
     "name": "stdout",
     "output_type": "stream",
     "text": [
      "\n",
      "Rose is a rose is a rose is a rose\n",
      "\n"
     ]
    }
   ],
   "source": [
    "text = '''\n",
    "Rose is a rose is a rose is a rose\n",
    "'''\n",
    "print(text)"
   ]
  },
  {
   "cell_type": "code",
   "execution_count": 49,
   "id": "26de66d3-cca7-44d5-afcd-ea1b18dda948",
   "metadata": {},
   "outputs": [
    {
     "name": "stdout",
     "output_type": "stream",
     "text": [
      "Rose is a rose is a rose is a rose\n"
     ]
    }
   ],
   "source": [
    "with open('./rose.txt', 'r') as f:\n",
    "    text = f.read()\n",
    "    \n",
    "print(text)"
   ]
  },
  {
   "cell_type": "code",
   "execution_count": 47,
   "id": "9f1f0df0-7520-4bb4-8fff-44c491aacd87",
   "metadata": {},
   "outputs": [
    {
     "name": "stdout",
     "output_type": "stream",
     "text": [
      "roese is a rose is  rose\n"
     ]
    }
   ],
   "source": [
    "import string\n",
    "\n",
    "text = 'Röse is a Rose, is 1 rose!?'\n",
    "\n",
    "text=text.replace(\"\\n\",\" \").replace(\"ä\",\"ae\").replace(\"Ä\",\"Ae\").replace(\"ö\",\"oe\").replace(\"Ö\",\"oe\").replace(\"ü\",\"ue\").replace(\"Ü\",\"ue\")\n",
    "\n",
    "text = text.lower()\n",
    "\n",
    "remove_digits = str.maketrans('', '', '0123456789')\n",
    "text = text.translate(remove_digits)\n",
    "\n",
    "text = text.translate(str.maketrans('','',string.punctuation))\n",
    "\n",
    "\n",
    "print(text)"
   ]
  },
  {
   "cell_type": "markdown",
   "id": "d7f7ac10-7c98-4895-a119-dd9fc1dd0528",
   "metadata": {
    "tags": []
   },
   "source": [
    "# Tokenization\n",
    "\n",
    "## 1. the python way"
   ]
  },
  {
   "cell_type": "code",
   "execution_count": 100,
   "id": "0eaab6a9-8a4f-4670-920e-11de67942824",
   "metadata": {},
   "outputs": [
    {
     "name": "stdout",
     "output_type": "stream",
     "text": [
      "['rose', 'is', 'a', 'rose.', 'The', 'dot', 'is', 'magic']\n",
      "['@lindner', 'lol,', 'that', 'was', '#awesome', ':)']\n",
      "['rose is a rose', ' The dot is magic']\n"
     ]
    }
   ],
   "source": [
    "text = 'rose is a rose. The dot is magic'\n",
    "\n",
    "#word tokenization < split by blank\n",
    "token1 = text.split(' ')\n",
    "print(token1)\n",
    "##the method above is called white space tokenizer...\n",
    "\n",
    "#...another useful example:\n",
    "tweet = \"@lindner lol, that was #awesome :)\"\n",
    "token2 = tweet.split(\" \")\n",
    "print(token2)\n",
    "\n",
    "#sentence tokenization < split by dot\n",
    "token3 = text.split('.')\n",
    "print(token3)"
   ]
  },
  {
   "cell_type": "markdown",
   "id": "a457edd0-d519-44a1-8317-8b9957de8d32",
   "metadata": {
    "tags": []
   },
   "source": [
    "## 2. with tokenizers from NLP libraries\n",
    "\n",
    "see some word tokenizer demos here: https://text-processing.com/demo/tokenize/"
   ]
  },
  {
   "cell_type": "markdown",
   "id": "361eeb65-f16f-44f0-845e-d473a5e6784b",
   "metadata": {},
   "source": [
    "### NLTK"
   ]
  },
  {
   "cell_type": "code",
   "execution_count": 101,
   "id": "9f3468eb-5708-4b97-8733-cb0516a45cf9",
   "metadata": {},
   "outputs": [
    {
     "name": "stdout",
     "output_type": "stream",
     "text": [
      "['rose', 'is', 'a', 'rose', '.', 'The', 'dot', 'is', 'magic']\n"
     ]
    }
   ],
   "source": [
    "from nltk.tokenize import word_tokenize\n",
    "\n",
    "tokenized_word=word_tokenize(text)\n",
    "print(tokenized_word)"
   ]
  },
  {
   "cell_type": "markdown",
   "id": "44c68878-7f7a-4529-8007-d7afb404f8dd",
   "metadata": {},
   "source": [
    "### Textblob"
   ]
  },
  {
   "cell_type": "code",
   "execution_count": 102,
   "id": "1a3503ed-f4e4-410c-be28-10bb649775a3",
   "metadata": {},
   "outputs": [
    {
     "name": "stdout",
     "output_type": "stream",
     "text": [
      "rose is a rose. The dot is magic\n"
     ]
    }
   ],
   "source": [
    "from textblob_de import Word\n",
    "from textblob_de import TextBlobDE as TextBlob\n",
    "transblob=TextBlob(text)\n",
    "print(transblob)"
   ]
  },
  {
   "cell_type": "code",
   "execution_count": 105,
   "id": "d058dc93-5941-44ee-8919-1362394eca35",
   "metadata": {},
   "outputs": [
    {
     "name": "stdout",
     "output_type": "stream",
     "text": [
      "rose is a rose. the dot is magic\n"
     ]
    }
   ],
   "source": [
    "#lowercase\n",
    "##https://textblob.readthedocs.io/en/dev/api_reference.html\n",
    "blob_Wl=transblob.lower()\n",
    "print(blob_Wl)"
   ]
  },
  {
   "cell_type": "code",
   "execution_count": 106,
   "id": "6d641eb0-3fc2-49d5-80a9-c64915716cfe",
   "metadata": {},
   "outputs": [
    {
     "name": "stdout",
     "output_type": "stream",
     "text": [
      "sentences:  [Sentence(\"rose is a rose.\"), Sentence(\"The dot is magic\")] \n",
      "\n",
      "words1:  ['rose', 'is', 'a', 'rose', '.', 'The', 'dot', 'is', 'magic'] \n",
      "\n",
      "words2:  ['rose', 'is', 'a', 'rose', 'The', 'dot', 'is', 'magic'] \n",
      "\n"
     ]
    }
   ],
   "source": [
    "#1. Hier werden uns die einzelnen Sätze genannt.\n",
    "print(\"sentences: \", transblob.sentences, \"\\n\") \n",
    "\n",
    "#2. Hier werden uns die einzelnen Elemente der Sätze genannt.\n",
    "print(\"words1: \", transblob.tokens, \"\\n\") \n",
    "\n",
    "#3. oder auch (hier kommt die punktation gleich mit raus)\n",
    "print(\"words2: \", transblob.words, \"\\n\") "
   ]
  },
  {
   "cell_type": "markdown",
   "id": "39e4c807-aafd-488e-9d9d-705792c0bcaa",
   "metadata": {},
   "source": [
    "# inspect Datasets"
   ]
  },
  {
   "cell_type": "markdown",
   "id": "4057647e-15ac-4e2f-b533-1634c92ade03",
   "metadata": {},
   "source": [
    "## json Files (ndjson)\n",
    "\n",
    "see also: https://www.w3schools.com/python/pandas/pandas_json.asp"
   ]
  },
  {
   "cell_type": "code",
   "execution_count": 58,
   "id": "c7c4daa5-83b1-4c25-8211-0226271558f7",
   "metadata": {},
   "outputs": [],
   "source": [
    "corpus = open('gutenberg-poetry-v001.ndjson', 'r')"
   ]
  },
  {
   "cell_type": "code",
   "execution_count": 59,
   "id": "9d5df1ed-164e-47a2-a7af-a2d867e0f580",
   "metadata": {},
   "outputs": [],
   "source": [
    "import json"
   ]
  },
  {
   "cell_type": "code",
   "execution_count": 60,
   "id": "1dcfa3bc-3048-4199-9f5f-910e0903d315",
   "metadata": {},
   "outputs": [],
   "source": [
    "all_lines=[]\n",
    "for line in corpus:\n",
    "    all_lines.append(json.loads(line.strip()))"
   ]
  },
  {
   "cell_type": "code",
   "execution_count": 61,
   "id": "8974df30-576b-4c3e-9f22-88f69f593b94",
   "metadata": {},
   "outputs": [
    {
     "name": "stdout",
     "output_type": "stream",
     "text": [
      "[{'s': 'The Song of Hiawatha is based on the legends and stories of', 'gid': '19'}, {'s': 'many North American Indian tribes, but especially those of the', 'gid': '19'}, {'s': 'Ojibway Indians of northern Michigan, Wisconsin, and Minnesota.', 'gid': '19'}, {'s': 'They were collected by Henry Rowe Schoolcraft, the reknowned', 'gid': '19'}, {'s': 'Schoolcraft married Jane, O-bah-bahm-wawa-ge-zhe-go-qua (The', 'gid': '19'}]\n"
     ]
    }
   ],
   "source": [
    "print(all_lines[:5])"
   ]
  },
  {
   "cell_type": "code",
   "execution_count": 82,
   "id": "ad6fd53b-3886-42c0-9b75-ffbd2098111f",
   "metadata": {},
   "outputs": [
    {
     "data": {
      "text/plain": [
       "[{'s': 'And howsoever pride may roll', 'gid': '36150'},\n",
       " {'s': 'Up in the air and down!', 'gid': '136'},\n",
       " {'s': '\"It\\'s the townsfolks\\' cheery compliment', 'gid': '2863'},\n",
       " {'s': 'To endure another like it -- and another -- till I\\'m dead?\"',\n",
       "  'gid': '1040'},\n",
       " {'s': \"Coz there the men ain't nothin' more'n idees,--\", 'gid': '3650'},\n",
       " {'s': '\"You wouldn\\'t ha\\' never ben here but for me.', 'gid': '3650'},\n",
       " {'s': 'And bending down beside the glowing bars,', 'gid': '1304'},\n",
       " {'s': 'The vigilance to which we clung.', 'gid': '1165'}]"
      ]
     },
     "execution_count": 82,
     "metadata": {},
     "output_type": "execute_result"
    }
   ],
   "source": [
    "import random\n",
    "random.sample(all_lines, 8)\n",
    "#random.sample?"
   ]
  },
  {
   "cell_type": "code",
   "execution_count": 107,
   "id": "4bca4270-4a17-4012-b2aa-a74a6c7ea4b3",
   "metadata": {},
   "outputs": [
    {
     "name": "stdout",
     "output_type": "stream",
     "text": [
      "The Song of Hiawatha is based on the legends and stories of many North American Indian tribes, but especially those of the Ojibway Indians of northern Michigan, Wisconsin, and Minnesota. They were collected by Henry Rowe Schoolcraft, the reknowned Schoolcraft married Jane, O-bah-bahm-wawa-ge-zhe-go-qua (The\n"
     ]
    }
   ],
   "source": [
    "big_poem = \" \".join([line['s'] for line in all_lines[:5]])\n",
    "print(big_poem)\n",
    "##\"gid\""
   ]
  },
  {
   "cell_type": "markdown",
   "id": "210a4c66-83bc-4210-8150-bb235fcd84d4",
   "metadata": {},
   "source": [
    "## csv Files"
   ]
  },
  {
   "cell_type": "code",
   "execution_count": 43,
   "id": "04ae2bde-acc8-4f3d-8781-351d84491ce3",
   "metadata": {},
   "outputs": [
    {
     "data": {
      "text/html": [
       "<div>\n",
       "<style scoped>\n",
       "    .dataframe tbody tr th:only-of-type {\n",
       "        vertical-align: middle;\n",
       "    }\n",
       "\n",
       "    .dataframe tbody tr th {\n",
       "        vertical-align: top;\n",
       "    }\n",
       "\n",
       "    .dataframe thead th {\n",
       "        text-align: right;\n",
       "    }\n",
       "</style>\n",
       "<table border=\"1\" class=\"dataframe\">\n",
       "  <thead>\n",
       "    <tr style=\"text-align: right;\">\n",
       "      <th></th>\n",
       "      <th>author</th>\n",
       "      <th>content</th>\n",
       "      <th>poem name</th>\n",
       "      <th>age</th>\n",
       "      <th>type</th>\n",
       "    </tr>\n",
       "  </thead>\n",
       "  <tbody>\n",
       "    <tr>\n",
       "      <th>0</th>\n",
       "      <td>WILLIAM SHAKESPEARE</td>\n",
       "      <td>Let the bird of loudest lay\\r\\nOn the sole Ara...</td>\n",
       "      <td>The Phoenix and the Turtle</td>\n",
       "      <td>Renaissance</td>\n",
       "      <td>Mythology &amp; Folklore</td>\n",
       "    </tr>\n",
       "    <tr>\n",
       "      <th>1</th>\n",
       "      <td>DUCHESS OF NEWCASTLE MARGARET CAVENDISH</td>\n",
       "      <td>Sir Charles into my chamber coming in,\\r\\nWhen...</td>\n",
       "      <td>An Epilogue to the Above</td>\n",
       "      <td>Renaissance</td>\n",
       "      <td>Mythology &amp; Folklore</td>\n",
       "    </tr>\n",
       "    <tr>\n",
       "      <th>2</th>\n",
       "      <td>THOMAS BASTARD</td>\n",
       "      <td>Our vice runs beyond all that old men saw,\\r\\n...</td>\n",
       "      <td>Book 7, Epigram 42</td>\n",
       "      <td>Renaissance</td>\n",
       "      <td>Mythology &amp; Folklore</td>\n",
       "    </tr>\n",
       "    <tr>\n",
       "      <th>3</th>\n",
       "      <td>EDMUND SPENSER</td>\n",
       "      <td>Lo I the man, whose Muse whilome did maske,\\r\\...</td>\n",
       "      <td>from The Faerie Queene: Book I, Canto I</td>\n",
       "      <td>Renaissance</td>\n",
       "      <td>Mythology &amp; Folklore</td>\n",
       "    </tr>\n",
       "    <tr>\n",
       "      <th>4</th>\n",
       "      <td>RICHARD BARNFIELD</td>\n",
       "      <td>Long have I longd to see my love againe,\\r\\nSt...</td>\n",
       "      <td>Sonnet 16</td>\n",
       "      <td>Renaissance</td>\n",
       "      <td>Mythology &amp; Folklore</td>\n",
       "    </tr>\n",
       "  </tbody>\n",
       "</table>\n",
       "</div>"
      ],
      "text/plain": [
       "                                    author  \\\n",
       "0                      WILLIAM SHAKESPEARE   \n",
       "1  DUCHESS OF NEWCASTLE MARGARET CAVENDISH   \n",
       "2                           THOMAS BASTARD   \n",
       "3                           EDMUND SPENSER   \n",
       "4                        RICHARD BARNFIELD   \n",
       "\n",
       "                                             content  \\\n",
       "0  Let the bird of loudest lay\\r\\nOn the sole Ara...   \n",
       "1  Sir Charles into my chamber coming in,\\r\\nWhen...   \n",
       "2  Our vice runs beyond all that old men saw,\\r\\n...   \n",
       "3  Lo I the man, whose Muse whilome did maske,\\r\\...   \n",
       "4  Long have I longd to see my love againe,\\r\\nSt...   \n",
       "\n",
       "                                 poem name          age                  type  \n",
       "0               The Phoenix and the Turtle  Renaissance  Mythology & Folklore  \n",
       "1                 An Epilogue to the Above  Renaissance  Mythology & Folklore  \n",
       "2                       Book 7, Epigram 42  Renaissance  Mythology & Folklore  \n",
       "3  from The Faerie Queene: Book I, Canto I  Renaissance  Mythology & Folklore  \n",
       "4                                Sonnet 16  Renaissance  Mythology & Folklore  "
      ]
     },
     "execution_count": 43,
     "metadata": {},
     "output_type": "execute_result"
    }
   ],
   "source": [
    "import pandas as pd\n",
    "# Read the csv file\n",
    "df = pd.read_csv(\"poetry.csv\")\n",
    "\n",
    "# First 5 rows\n",
    "df.head()"
   ]
  },
  {
   "cell_type": "markdown",
   "id": "b630a7c8-3e99-4fe4-8144-7f23c92aeae5",
   "metadata": {},
   "source": [
    "### Read out specific colums\n",
    "\n",
    "\n",
    "#### Make the desired column as an index"
   ]
  },
  {
   "cell_type": "code",
   "execution_count": 70,
   "id": "2c9cdd8d-12b2-4446-9bab-3dd85dbf7566",
   "metadata": {},
   "outputs": [],
   "source": [
    "#pd.read_csv?\n",
    "see also: https://www.w3schools.com/python/pandas/pandas_csv.asp"
   ]
  },
  {
   "cell_type": "code",
   "execution_count": 72,
   "id": "63ffe605-bc2e-45a4-a7a9-432fdf4b522d",
   "metadata": {},
   "outputs": [
    {
     "name": "stdout",
     "output_type": "stream",
     "text": [
      "Index(['Let the bird of loudest lay\\r\\nOn the sole Arabian tree\\r\\nHerald sad and trumpet be,\\r\\nTo whose sound chaste wings obey.\\r\\n\\r\\nBut thou shrieking harbinger,\\r\\nFoul precurrer of the fiend,\\r\\nAugur of the fever's end,\\r\\nTo this troop come thou not near.\\r\\n\\r\\nFrom this session interdict\\r\\nEvery fowl of tyrant wing,\\r\\nSave the eagle, feather'd king;\\r\\nKeep the obsequy so strict.\\r\\n\\r\\nLet the priest in surplice white,\\r\\nThat defunctive music can,\\r\\nBe the death-divining swan,\\r\\nLest the requiem lack his right.\\r\\n\\r\\nAnd thou treble-dated crow,\\r\\nThat thy sable gender mak'st\\r\\nWith the breath thou giv'st and tak'st,\\r\\n'Mongst our mourners shalt thou go.\\r\\n\\r\\nHere the anthem doth commence:\\r\\nLove and constancy is dead;\\r\\nPhoenix and the Turtle fled\\r\\nIn a mutual flame from hence.\\r\\n\\r\\nSo they lov'd, as love in twain\\r\\nHad the essence but in one;\\r\\nTwo distincts, division none:\\r\\nNumber there in love was slain.\\r\\n\\r\\nHearts remote, yet not asunder;\\r\\nDistance and no space was seen\\r\\n'Twixt this Turtle and his queen:\\r\\nBut in them it were a wonder.\\r\\n\\r\\nSo between them love did shine\\r\\nThat the Turtle saw his right\\r\\nFlaming in the Phoenix' sight:\\r\\nEither was the other's mine.\\r\\n\\r\\nProperty was thus appalled\\r\\nThat the self was not the same;\\r\\nSingle nature's double name\\r\\nNeither two nor one was called.\\r\\n\\r\\nReason, in itself confounded,\\r\\nSaw division grow together,\\r\\nTo themselves yet either neither,\\r\\nSimple were so well compounded;\\r\\n\\r\\nThat it cried, \"How true a twain\\r\\nSeemeth this concordant one!\\r\\nLove has reason, reason none,\\r\\nIf what parts can so remain.\"\\r\\n\\r\\nWhereupon it made this threne\\r\\nTo the Phoenix and the Dove,\\r\\nCo-supremes and stars of love,\\r\\nAs chorus to their tragic scene:\\r\\n\\r\\n                 threnos\\r\\n\\r\\nBeauty, truth, and rarity,\\r\\nGrace in all simplicity,\\r\\nHere enclos'd, in cinders lie.\\r\\n\\r\\nDeath is now the Phoenix' nest,\\r\\nAnd the Turtle's loyal breast\\r\\nTo eternity doth rest,\\r\\n\\r\\nLeaving no posterity:\\r\\n'Twas not their infirmity,\\r\\nIt was married chastity.\\r\\n\\r\\nTruth may seem but cannot be;\\r\\nBeauty brag but 'tis not she;\\r\\nTruth and beauty buried be.\\r\\n\\r\\nTo this urn let those repair\\r\\nThat are either true or fair;\\r\\nFor these dead birds sigh a prayer.'], dtype='object', name='content')\n"
     ]
    }
   ],
   "source": [
    "# Read the csv file with 'Date' as index and parse_dates=True\n",
    "df = pd.read_csv(\"poetry.csv\", index_col='content', nrows=1)\n",
    "\n",
    "# Display index\n",
    "var1=df.index\n",
    "print(var1)"
   ]
  }
 ],
 "metadata": {
  "kernelspec": {
   "display_name": "Python 3",
   "language": "python",
   "name": "python3"
  },
  "language_info": {
   "codemirror_mode": {
    "name": "ipython",
    "version": 3
   },
   "file_extension": ".py",
   "mimetype": "text/x-python",
   "name": "python",
   "nbconvert_exporter": "python",
   "pygments_lexer": "ipython3",
   "version": "3.8.8"
  }
 },
 "nbformat": 4,
 "nbformat_minor": 5
}

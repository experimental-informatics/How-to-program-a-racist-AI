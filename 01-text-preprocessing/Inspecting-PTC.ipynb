{
 "cells": [
  {
   "cell_type": "markdown",
   "metadata": {},
   "source": [
    "# The Propaganda Techniques Corpus (PTC)\n",
    "*\"Propagandistic news articles use specific techniques to convey their message, such as whataboutism, red Herring, and name calling, among many others. The Propaganda Techniques Corpus (PTC) allows to study automatic algorithms to detect them. We provide a permanent leaderboard to allow researchers both to advertise their progress and to be up-to-speed with the state of the art on the tasks offered (see below for a definition).\"* < see: https://propaganda.qcri.org/ptc/"
   ]
  },
  {
   "cell_type": "markdown",
   "metadata": {},
   "source": [
    "## Web Interface Demos: https://www.tanbih.org/prta\n",
    "\n",
    "1. Propaganda technique analysis on a topic: https://www.tanbih.org/propaganda/\n",
    "2. Highlighting of the propaganda techniques in a text: https://www.tanbih.org/propagandasubmit"
   ]
  },
  {
   "cell_type": "markdown",
   "metadata": {},
   "source": [
    "## Inspecting the Corpus\n",
    "...using the pickle file from: https://github.com/marcogdepinto/PropagandaDetection"
   ]
  },
  {
   "cell_type": "code",
   "execution_count": 61,
   "metadata": {},
   "outputs": [],
   "source": [
    "import pandas as pd\n",
    "df = pd.read_pickle('./data/train_set_FLC.pkl')"
   ]
  },
  {
   "cell_type": "code",
   "execution_count": 62,
   "metadata": {},
   "outputs": [
    {
     "data": {
      "text/html": [
       "<div>\n",
       "<style scoped>\n",
       "    .dataframe tbody tr th:only-of-type {\n",
       "        vertical-align: middle;\n",
       "    }\n",
       "\n",
       "    .dataframe tbody tr th {\n",
       "        vertical-align: top;\n",
       "    }\n",
       "\n",
       "    .dataframe thead th {\n",
       "        text-align: right;\n",
       "    }\n",
       "</style>\n",
       "<table border=\"1\" class=\"dataframe\">\n",
       "  <thead>\n",
       "    <tr style=\"text-align: right;\">\n",
       "      <th></th>\n",
       "      <th>article_id</th>\n",
       "      <th>start_index</th>\n",
       "      <th>end_index</th>\n",
       "      <th>full_sentence</th>\n",
       "      <th>target_sentence</th>\n",
       "      <th>technique</th>\n",
       "    </tr>\n",
       "  </thead>\n",
       "  <tbody>\n",
       "    <tr>\n",
       "      <th>0</th>\n",
       "      <td>780619695</td>\n",
       "      <td>1538</td>\n",
       "      <td>1554</td>\n",
       "      <td>Francis and Farrell’s 'Sinod' on the Youth, #S...</td>\n",
       "      <td>Supremacists Who</td>\n",
       "      <td>Repetition</td>\n",
       "    </tr>\n",
       "    <tr>\n",
       "      <th>1</th>\n",
       "      <td>780619695</td>\n",
       "      <td>1728</td>\n",
       "      <td>1744</td>\n",
       "      <td>Francis and Farrell’s 'Sinod' on the Youth, #S...</td>\n",
       "      <td>uke video, within</td>\n",
       "      <td>Repetition</td>\n",
       "    </tr>\n",
       "    <tr>\n",
       "      <th>2</th>\n",
       "      <td>780619695</td>\n",
       "      <td>2018</td>\n",
       "      <td>2034</td>\n",
       "      <td>Francis and Farrell’s 'Sinod' on the Youth, #S...</td>\n",
       "      <td>tion League (ADL)</td>\n",
       "      <td>Repetition</td>\n",
       "    </tr>\n",
       "    <tr>\n",
       "      <th>3</th>\n",
       "      <td>780619695</td>\n",
       "      <td>2245</td>\n",
       "      <td>2261</td>\n",
       "      <td>Francis and Farrell’s 'Sinod' on the Youth, #S...</td>\n",
       "      <td>ideo.\\nDavid Duke’</td>\n",
       "      <td>Repetition</td>\n",
       "    </tr>\n",
       "    <tr>\n",
       "      <th>4</th>\n",
       "      <td>780619695</td>\n",
       "      <td>2838</td>\n",
       "      <td>2854</td>\n",
       "      <td>Francis and Farrell’s 'Sinod' on the Youth, #S...</td>\n",
       "      <td>enemy of the rig</td>\n",
       "      <td>Repetition</td>\n",
       "    </tr>\n",
       "  </tbody>\n",
       "</table>\n",
       "</div>"
      ],
      "text/plain": [
       "  article_id  start_index  end_index  \\\n",
       "0  780619695         1538       1554   \n",
       "1  780619695         1728       1744   \n",
       "2  780619695         2018       2034   \n",
       "3  780619695         2245       2261   \n",
       "4  780619695         2838       2854   \n",
       "\n",
       "                                       full_sentence     target_sentence  \\\n",
       "0  Francis and Farrell’s 'Sinod' on the Youth, #S...    Supremacists Who   \n",
       "1  Francis and Farrell’s 'Sinod' on the Youth, #S...   uke video, within   \n",
       "2  Francis and Farrell’s 'Sinod' on the Youth, #S...   tion League (ADL)   \n",
       "3  Francis and Farrell’s 'Sinod' on the Youth, #S...  ideo.\\nDavid Duke’   \n",
       "4  Francis and Farrell’s 'Sinod' on the Youth, #S...    enemy of the rig   \n",
       "\n",
       "    technique  \n",
       "0  Repetition  \n",
       "1  Repetition  \n",
       "2  Repetition  \n",
       "3  Repetition  \n",
       "4  Repetition  "
      ]
     },
     "execution_count": 62,
     "metadata": {},
     "output_type": "execute_result"
    }
   ],
   "source": [
    "df.head()\n",
    "#print(df[450:500])"
   ]
  },
  {
   "cell_type": "markdown",
   "metadata": {},
   "source": [
    "### looking for all rows with loaded language\n",
    "howto see: https://www.geeksforgeeks.org/select-rows-columns-by-name-or-index-in-pandas-dataframe-using-loc-iloc/"
   ]
  },
  {
   "cell_type": "code",
   "execution_count": 63,
   "metadata": {},
   "outputs": [],
   "source": [
    "  \n",
    "# Set 'Name' column as index \n",
    "# on a Dataframe\n",
    "df.set_index(\"technique\", inplace = True)\n",
    "  \n",
    "# Using the operator .loc[]\n",
    "# to select single row\n",
    "result_LL = df.loc[\"Loaded_Language\"]\n",
    "  \n",
    "# Show the dataframe\n",
    "result_LL[\"full_sentence\"].head(5)\n",
    "\n",
    "# save it\n",
    "result_LL[\"full_sentence\"].to_csv(r\"./data/loaded-language.txt\", header=None, index=None)\n"
   ]
  },
  {
   "cell_type": "markdown",
   "metadata": {},
   "source": [
    "### looking for all rows with Appeal to Authority"
   ]
  },
  {
   "cell_type": "code",
   "execution_count": 64,
   "metadata": {},
   "outputs": [
    {
     "data": {
      "text/plain": [
       "technique\n",
       "Appeal_to_Authority    Hundreds of Priests Accused in Pennsylvania, C...\n",
       "Appeal_to_Authority    I'll Say What Kavanaugh Wouldn't: Christine Fo...\n",
       "Appeal_to_Authority    “It’s gotta be a set-up”: Neighbor of Las Vega...\n",
       "Appeal_to_Authority    Can the Church Defend Herself Against Bergogli...\n",
       "Appeal_to_Authority    Can the Church Defend Herself Against Bergogli...\n",
       "Name: full_sentence, dtype: object"
      ]
     },
     "execution_count": 64,
     "metadata": {},
     "output_type": "execute_result"
    }
   ],
   "source": [
    "\n",
    "# again select single row\n",
    "result_AA = df.loc[\"Appeal_to_Authority\"]\n",
    "  \n",
    "# Show the dataframe\n",
    "result_AA[\"full_sentence\"].head(5)"
   ]
  },
  {
   "cell_type": "code",
   "execution_count": 65,
   "metadata": {},
   "outputs": [],
   "source": [
    "# save it\n",
    "result_AA[\"full_sentence\"].to_csv(r\"./data/appeal-auth.txt\", header=None, index=None)"
   ]
  }
 ],
 "metadata": {
  "kernelspec": {
   "display_name": "Python 3",
   "language": "python",
   "name": "python3"
  },
  "language_info": {
   "codemirror_mode": {
    "name": "ipython",
    "version": 3
   },
   "file_extension": ".py",
   "mimetype": "text/x-python",
   "name": "python",
   "nbconvert_exporter": "python",
   "pygments_lexer": "ipython3",
   "version": "3.8.8"
  }
 },
 "nbformat": 4,
 "nbformat_minor": 4
}

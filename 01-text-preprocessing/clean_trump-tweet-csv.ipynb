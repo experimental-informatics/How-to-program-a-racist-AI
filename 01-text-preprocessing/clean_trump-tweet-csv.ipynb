{
 "cells": [
  {
   "cell_type": "markdown",
   "metadata": {},
   "source": [
    "# taking on row from csv and save it"
   ]
  },
  {
   "cell_type": "markdown",
   "metadata": {},
   "source": [
    "## import necessary library"
   ]
  },
  {
   "cell_type": "code",
   "execution_count": 26,
   "metadata": {},
   "outputs": [],
   "source": [
    "import pandas as pd"
   ]
  },
  {
   "cell_type": "markdown",
   "metadata": {},
   "source": [
    "## load *.csv file and inspect it"
   ]
  },
  {
   "cell_type": "code",
   "execution_count": 1,
   "metadata": {},
   "outputs": [
    {
     "name": "stdout",
     "output_type": "stream",
     "text": [
      "(56571, 9)\n",
      "Index(['id', 'text', 'isRetweet', 'isDeleted', 'device', 'favorites',\n",
      "       'retweets', 'date', 'isFlagged'],\n",
      "      dtype='object')\n",
      "<class 'pandas.core.frame.DataFrame'>\n",
      "RangeIndex: 56571 entries, 0 to 56570\n",
      "Data columns (total 9 columns):\n",
      " #   Column     Non-Null Count  Dtype \n",
      "---  ------     --------------  ----- \n",
      " 0   id         56571 non-null  int64 \n",
      " 1   text       56571 non-null  object\n",
      " 2   isRetweet  56571 non-null  object\n",
      " 3   isDeleted  56571 non-null  object\n",
      " 4   device     56571 non-null  object\n",
      " 5   favorites  56571 non-null  int64 \n",
      " 6   retweets   56571 non-null  int64 \n",
      " 7   date       56571 non-null  object\n",
      " 8   isFlagged  56571 non-null  object\n",
      "dtypes: int64(3), object(6)\n",
      "memory usage: 3.9+ MB\n",
      "None\n"
     ]
    },
    {
     "data": {
      "text/html": [
       "<div>\n",
       "<style scoped>\n",
       "    .dataframe tbody tr th:only-of-type {\n",
       "        vertical-align: middle;\n",
       "    }\n",
       "\n",
       "    .dataframe tbody tr th {\n",
       "        vertical-align: top;\n",
       "    }\n",
       "\n",
       "    .dataframe thead th {\n",
       "        text-align: right;\n",
       "    }\n",
       "</style>\n",
       "<table border=\"1\" class=\"dataframe\">\n",
       "  <thead>\n",
       "    <tr style=\"text-align: right;\">\n",
       "      <th></th>\n",
       "      <th>id</th>\n",
       "      <th>text</th>\n",
       "      <th>isRetweet</th>\n",
       "      <th>isDeleted</th>\n",
       "      <th>device</th>\n",
       "      <th>favorites</th>\n",
       "      <th>retweets</th>\n",
       "      <th>date</th>\n",
       "      <th>isFlagged</th>\n",
       "    </tr>\n",
       "  </thead>\n",
       "  <tbody>\n",
       "    <tr>\n",
       "      <th>0</th>\n",
       "      <td>98454970654916608</td>\n",
       "      <td>Republicans and Democrats have both created ou...</td>\n",
       "      <td>f</td>\n",
       "      <td>f</td>\n",
       "      <td>TweetDeck</td>\n",
       "      <td>49</td>\n",
       "      <td>255</td>\n",
       "      <td>2011-08-02 18:07:48</td>\n",
       "      <td>f</td>\n",
       "    </tr>\n",
       "    <tr>\n",
       "      <th>1</th>\n",
       "      <td>1234653427789070336</td>\n",
       "      <td>I was thrilled to be back in the Great city of...</td>\n",
       "      <td>f</td>\n",
       "      <td>f</td>\n",
       "      <td>Twitter for iPhone</td>\n",
       "      <td>73748</td>\n",
       "      <td>17404</td>\n",
       "      <td>2020-03-03 01:34:50</td>\n",
       "      <td>f</td>\n",
       "    </tr>\n",
       "    <tr>\n",
       "      <th>2</th>\n",
       "      <td>1218010753434820614</td>\n",
       "      <td>RT @CBS_Herridge: READ: Letter to surveillance...</td>\n",
       "      <td>t</td>\n",
       "      <td>f</td>\n",
       "      <td>Twitter for iPhone</td>\n",
       "      <td>0</td>\n",
       "      <td>7396</td>\n",
       "      <td>2020-01-17 03:22:47</td>\n",
       "      <td>f</td>\n",
       "    </tr>\n",
       "    <tr>\n",
       "      <th>3</th>\n",
       "      <td>1304875170860015617</td>\n",
       "      <td>The Unsolicited Mail In Ballot Scam is a major...</td>\n",
       "      <td>f</td>\n",
       "      <td>f</td>\n",
       "      <td>Twitter for iPhone</td>\n",
       "      <td>80527</td>\n",
       "      <td>23502</td>\n",
       "      <td>2020-09-12 20:10:58</td>\n",
       "      <td>f</td>\n",
       "    </tr>\n",
       "    <tr>\n",
       "      <th>4</th>\n",
       "      <td>1218159531554897920</td>\n",
       "      <td>RT @MZHemingway: Very friendly telling of even...</td>\n",
       "      <td>t</td>\n",
       "      <td>f</td>\n",
       "      <td>Twitter for iPhone</td>\n",
       "      <td>0</td>\n",
       "      <td>9081</td>\n",
       "      <td>2020-01-17 13:13:59</td>\n",
       "      <td>f</td>\n",
       "    </tr>\n",
       "  </tbody>\n",
       "</table>\n",
       "</div>"
      ],
      "text/plain": [
       "                    id                                               text  \\\n",
       "0    98454970654916608  Republicans and Democrats have both created ou...   \n",
       "1  1234653427789070336  I was thrilled to be back in the Great city of...   \n",
       "2  1218010753434820614  RT @CBS_Herridge: READ: Letter to surveillance...   \n",
       "3  1304875170860015617  The Unsolicited Mail In Ballot Scam is a major...   \n",
       "4  1218159531554897920  RT @MZHemingway: Very friendly telling of even...   \n",
       "\n",
       "  isRetweet isDeleted              device  favorites  retweets  \\\n",
       "0         f         f           TweetDeck         49       255   \n",
       "1         f         f  Twitter for iPhone      73748     17404   \n",
       "2         t         f  Twitter for iPhone          0      7396   \n",
       "3         f         f  Twitter for iPhone      80527     23502   \n",
       "4         t         f  Twitter for iPhone          0      9081   \n",
       "\n",
       "                  date isFlagged  \n",
       "0  2011-08-02 18:07:48         f  \n",
       "1  2020-03-03 01:34:50         f  \n",
       "2  2020-01-17 03:22:47         f  \n",
       "3  2020-09-12 20:10:58         f  \n",
       "4  2020-01-17 13:13:59         f  "
      ]
     },
     "execution_count": 1,
     "metadata": {},
     "output_type": "execute_result"
    }
   ],
   "source": [
    "df = pd.read_csv(\"tweets_01-08-2021.csv\")\n",
    "print(df.shape)\n",
    "print(df.columns)\n",
    "print(df.info())\n",
    "df.head()"
   ]
  },
  {
   "cell_type": "markdown",
   "metadata": {},
   "source": [
    "## extract a specific row"
   ]
  },
  {
   "cell_type": "code",
   "execution_count": 29,
   "metadata": {},
   "outputs": [],
   "source": [
    "tweets=df[\"text\"] "
   ]
  },
  {
   "cell_type": "markdown",
   "metadata": {},
   "source": [
    "### print the first 10 lines of that row"
   ]
  },
  {
   "cell_type": "code",
   "execution_count": 27,
   "metadata": {},
   "outputs": [
    {
     "data": {
      "text/plain": [
       "0    Republicans and Democrats have both created ou...\n",
       "1    I was thrilled to be back in the Great city of...\n",
       "2    RT @CBS_Herridge: READ: Letter to surveillance...\n",
       "3    The Unsolicited Mail In Ballot Scam is a major...\n",
       "4    RT @MZHemingway: Very friendly telling of even...\n",
       "5    RT @WhiteHouse: President @realDonaldTrump ann...\n",
       "6    Getting a little exercise this morning! https:...\n",
       "7                              https://t.co/4qwCKQOiOw\n",
       "8                              https://t.co/VlEu8yyovv\n",
       "9                              https://t.co/z5CRqHO8vg\n",
       "Name: text, dtype: object"
      ]
     },
     "execution_count": 27,
     "metadata": {},
     "output_type": "execute_result"
    }
   ],
   "source": [
    "df[\"text\"].head(10)"
   ]
  },
  {
   "cell_type": "markdown",
   "metadata": {},
   "source": [
    "### tokenize it if necessary\n",
    "see: https://www.nltk.org/api/nltk.tokenize.html"
   ]
  },
  {
   "cell_type": "code",
   "execution_count": 30,
   "metadata": {},
   "outputs": [
    {
     "data": {
      "text/plain": [
       "0    [Republicans, and, Democrats, have, both, crea...\n",
       "1    [I, was, thrilled, to, be, back, in, the, Grea...\n",
       "2    [RT, @, CBS_Herridge, :, READ, :, Letter, to, ...\n",
       "3    [The, Unsolicited, Mail, In, Ballot, Scam, is,...\n",
       "4    [RT, @, MZHemingway, :, Very, friendly, tellin...\n",
       "Name: text, dtype: object"
      ]
     },
     "execution_count": 30,
     "metadata": {},
     "output_type": "execute_result"
    }
   ],
   "source": [
    "from nltk.tokenize import word_tokenize\n",
    "\n",
    "tweetText = tweets.apply(word_tokenize)\n",
    "tweetText.head()"
   ]
  },
  {
   "cell_type": "markdown",
   "metadata": {},
   "source": [
    "### save it as file"
   ]
  },
  {
   "cell_type": "code",
   "execution_count": 31,
   "metadata": {},
   "outputs": [],
   "source": [
    "df[\"text\"].to_csv(r\"input.txt\", header=None, index=None)"
   ]
  },
  {
   "cell_type": "markdown",
   "metadata": {},
   "source": [
    "### reopen it for finetuning"
   ]
  },
  {
   "cell_type": "code",
   "execution_count": 6,
   "metadata": {},
   "outputs": [],
   "source": [
    "f = open(\"input.txt\")\n",
    "text = f.read()\n",
    "f.close()\n",
    "#print(text)"
   ]
  }
 ],
 "metadata": {
  "kernelspec": {
   "display_name": "Python 3",
   "language": "python",
   "name": "python3"
  },
  "language_info": {
   "codemirror_mode": {
    "name": "ipython",
    "version": 3
   },
   "file_extension": ".py",
   "mimetype": "text/x-python",
   "name": "python",
   "nbconvert_exporter": "python",
   "pygments_lexer": "ipython3",
   "version": "3.8.3"
  }
 },
 "nbformat": 4,
 "nbformat_minor": 5
}

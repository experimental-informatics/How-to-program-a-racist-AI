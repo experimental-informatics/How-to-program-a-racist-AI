{
 "cells": [
  {
   "cell_type": "markdown",
   "metadata": {},
   "source": [
    "# Python Cheatsheet - Loop\n",
    "\n",
    "this is a notebook for quick review on python langauge in the context of NLP"
   ]
  },
  {
   "cell_type": "markdown",
   "metadata": {},
   "source": [
    "## For Loop \n",
    "\n",
    "how to define a loop"
   ]
  },
  {
   "cell_type": "code",
   "execution_count": 11,
   "metadata": {},
   "outputs": [
    {
     "name": "stdout",
     "output_type": "stream",
     "text": [
      "0\n",
      "1\n",
      "2\n",
      "3\n",
      "4\n"
     ]
    }
   ],
   "source": [
    "# one-dimension for-loop\n",
    "for i in range(5):\n",
    "    print(i)"
   ]
  },
  {
   "cell_type": "code",
   "execution_count": 10,
   "metadata": {},
   "outputs": [
    {
     "name": "stdout",
     "output_type": "stream",
     "text": [
      "\n",
      "*****\n",
      "****\n",
      "***\n",
      "**\n",
      "*"
     ]
    }
   ],
   "source": [
    "# nest for-loop\n",
    "for i in range(5):\n",
    "    print()\n",
    "    for i in range(i,5):\n",
    "        print('*',end='')"
   ]
  },
  {
   "cell_type": "code",
   "execution_count": 3,
   "metadata": {},
   "outputs": [
    {
     "name": "stdout",
     "output_type": "stream",
     "text": [
      "0 : a\n",
      "1 : b\n",
      "2 : c\n",
      "3 : d\n",
      "4 : e\n",
      "5 : f\n",
      "6 : g\n"
     ]
    }
   ],
   "source": [
    "#using enumerate function for accessing both index and element\n",
    "\n",
    "alphabets = ['a','b','c','d','e','f','g']\n",
    "\n",
    "for index, element in enumerate(alphabets):\n",
    "    print(index, ':', element)"
   ]
  },
  {
   "cell_type": "code",
   "execution_count": null,
   "metadata": {},
   "outputs": [],
   "source": []
  }
 ],
 "metadata": {
  "kernelspec": {
   "display_name": "Python 3",
   "language": "python",
   "name": "python3"
  },
  "language_info": {
   "codemirror_mode": {
    "name": "ipython",
    "version": 3
   },
   "file_extension": ".py",
   "mimetype": "text/x-python",
   "name": "python",
   "nbconvert_exporter": "python",
   "pygments_lexer": "ipython3",
   "version": "3.8.3"
  }
 },
 "nbformat": 4,
 "nbformat_minor": 4
}

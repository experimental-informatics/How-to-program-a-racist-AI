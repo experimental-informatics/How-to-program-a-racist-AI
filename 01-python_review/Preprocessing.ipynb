{
 "cells": [
  {
   "cell_type": "markdown",
   "metadata": {},
   "source": [
    "## 1. eigene Bilddaten als Array einlesen \n",
    "2. jpeg- oder png-werte in rgb-pixelwerte umwandeln\n",
    "3. Konvertieren des Arrays in eine Liste (oder bei CNN's in Tensoren) \n",
    "4. Skalieren der Pixelwerte mit dem Faktor 1/255, \n",
    "    d.h. aus einem Bereich von\n",
    "    0-255\n",
    "    in\n",
    "    0-1\n",
    "    z.B. (34 / 255.0 * 0.99) + 0.01\n",
    "\n",
    "### 1.1. z.B. eigenes png-Bild"
   ]
  },
  {
   "cell_type": "code",
   "execution_count": 2,
   "metadata": {},
   "outputs": [
    {
     "data": {
      "text/plain": [
       "<matplotlib.image.AxesImage at 0x7f1d38ea2f90>"
      ]
     },
     "execution_count": 2,
     "metadata": {},
     "output_type": "execute_result"
    },
    {
     "data": {
      "image/png": "[encoded data removed]",
      "text/plain": [
       "<Figure size 432x288 with 1 Axes>"
      ]
     },
     "metadata": {
      "needs_background": "light"
     },
     "output_type": "display_data"
    }
   ],
   "source": [
    "import imageio\n",
    "import matplotlib.pyplot\n",
    "\n",
    "# Bilddaten von *.png in Array laden\n",
    "img_array = imageio.imread('data/2828_my_own_3.png', as_gray=True)\n",
    "\n",
    "#Windows User\n",
    "#img_array = imageio.imread('C:/Users/unsername/Desktop/imagefolder/2828_my_own_3.png', as_gray=True)\n",
    "# Bild anzeigen\n",
    "matplotlib.pyplot.imshow(img_array,cmap='Greys', interpolation='None')\n",
    "# oder bei jpeg, oder png\n",
    "#import scipy.misc\n",
    "#img_array = scipy.misc.imread('2828_my_own_image.png', flatten=True)"
   ]
  },
  {
   "cell_type": "code",
   "execution_count": 3,
   "metadata": {},
   "outputs": [],
   "source": [
    "# von 28x28_Array in eine Liste mit 784 Werten\n",
    "# Werte umkehren ...warum hab ich das nochmal gemacht?\n",
    "img_data  = 255.0 - img_array.reshape(28*28)"
   ]
  },
  {
   "cell_type": "code",
   "execution_count": 4,
   "metadata": {},
   "outputs": [
    {
     "name": "stdout",
     "output_type": "stream",
     "text": [
      "min =  0.01\n",
      "max =  1.0\n"
     ]
    }
   ],
   "source": [
    "import numpy   \n",
    "# Skalieren in einen Werteberiech von 0.01 bis 1.0\n",
    "img_data = (img_data / 255.0 * 0.99) + 0.01\n",
    "print(\"min = \", numpy.min(img_data))\n",
    "print(\"max = \", numpy.max(img_data))"
   ]
  },
  {
   "cell_type": "markdown",
   "metadata": {},
   "source": [
    "----"
   ]
  },
  {
   "cell_type": "markdown",
   "metadata": {},
   "source": [
    "### 1.2. z.B. von einer Trainings- bzw. Testdatenbank"
   ]
  },
  {
   "cell_type": "code",
   "execution_count": 5,
   "metadata": {},
   "outputs": [
    {
     "data": {
      "text/plain": [
       "<matplotlib.image.AxesImage at 0x7f1d36ded3d0>"
      ]
     },
     "execution_count": 5,
     "metadata": {},
     "output_type": "execute_result"
    },
    {
     "data": {
      "image/png": "[encoded data removed]",
      "text/plain": [
       "<Figure size 432x288 with 1 Axes>"
      ]
     },
     "metadata": {
      "needs_background": "light"
     },
     "output_type": "display_data"
    }
   ],
   "source": [
    "import numpy\n",
    "#import urllib2\n",
    "import matplotlib.pyplot\n",
    "%matplotlib inline\n",
    "# https://github.com/makeyourownneuralnetwork/makeyourownneuralnetwork/blob/master/mnist_dataset/mnist_train_100.csv\n",
    "\n",
    "#Datei einlesen und ausgeben, 'r'=readonly\n",
    "data_file = open(\"data/mnist_train_100.csv\", 'r')\n",
    "data_list = data_file.readlines()\n",
    "##Datei wieder schließen um resourcen zu sparen\n",
    "data_file.close\n",
    "\n",
    "#string in liste (mit 784 elementen) umwandeln\n",
    "all_values = data_list[0].split(',')\n",
    "#1. Textstring in Zahlen konvertieren\n",
    "#2. alle zahlen verwenden außer die erste (ist die kennung), danach\n",
    "#3. alle 28 elemente ein linebreak << ergibt 28x28-matrix\n",
    "image_array = numpy.asfarray(all_values[1:]).reshape((28,28))\n",
    "#visualisierung des arrays in graustufen\n",
    "matplotlib.pyplot.imshow(image_array,cmap='Greys', interpolation='None')\n"
   ]
  },
  {
   "cell_type": "markdown",
   "metadata": {},
   "source": [
    "----"
   ]
  },
  {
   "cell_type": "markdown",
   "metadata": {},
   "source": [
    "## 2. Eigene Testdatenbank erstellen"
   ]
  },
  {
   "cell_type": "code",
   "execution_count": 6,
   "metadata": {},
   "outputs": [
    {
     "name": "stdout",
     "output_type": "stream",
     "text": [
      "loading ...  data/2828_my_own_3.png\n",
      "0.01\n",
      "1.0\n",
      "loading ...  data/2828_my_own_6.png\n",
      "0.01\n",
      "1.0\n",
      "loading ...  data/2828_my_own_4.png\n",
      "0.01\n",
      "0.93011767\n",
      "loading ...  data/2828_my_own_5.png\n",
      "0.01\n",
      "0.86800003\n",
      "loading ...  data/2828_my_own_2.png\n",
      "0.01\n",
      "1.0\n"
     ]
    },
    {
     "data": {
      "text/plain": [
       "<matplotlib.image.AxesImage at 0x7f1d36d6b4d0>"
      ]
     },
     "execution_count": 6,
     "metadata": {},
     "output_type": "execute_result"
    },
    {
     "data": {
      "image/png": "[encoded data removed]",
      "text/plain": [
       "<Figure size 432x288 with 1 Axes>"
      ]
     },
     "metadata": {
      "needs_background": "light"
     },
     "output_type": "display_data"
    }
   ],
   "source": [
    "# glob helps select multiple files using patterns\n",
    "import glob\n",
    "import numpy\n",
    "#import urllib2\n",
    "import matplotlib.pyplot\n",
    "%matplotlib inline\n",
    "\n",
    "# eigene testdatenbank\n",
    "our_own_dataset = []\n",
    "\n",
    "# png's als datenbank laden\n",
    "for image_file_name in glob.glob('data/2828_my_own_?.png'):\n",
    "    \n",
    "    # filename zum labeling benutzen (platzhalter ?)\n",
    "    label = int(image_file_name[-5:-4])\n",
    "    \n",
    "    # Bilddaten von png in array\n",
    "    print (\"loading ... \", image_file_name)\n",
    "    img_array = imageio.imread(image_file_name, as_gray=True)\n",
    "    \n",
    "    # von 28x28 zu 784er liste\n",
    "    img_data  = 255.0 - img_array.reshape(784)\n",
    "    \n",
    "    # skalieren von 0.01 zu 1.0\n",
    "    img_data = (img_data / 255.0 * 0.99) + 0.01\n",
    "    print(numpy.min(img_data))\n",
    "    print(numpy.max(img_data))\n",
    "    \n",
    "    # labels und skalierte Bilddaten in datenbank einbinden\n",
    "    record = numpy.append(label,img_data)\n",
    "    our_own_dataset.append(record)\n",
    "    \n",
    "    pass\n",
    "\n",
    "# auswahl treffen\n",
    "item = 0\n",
    "\n",
    "# als liste darstellen:\n",
    "#print(our_own_dataset[item])\n",
    "\n",
    "#grafisch darstellen\n",
    "matplotlib.pyplot.imshow(our_own_dataset[item][1:].reshape(28,28), cmap='Greys', interpolation='None')\n",
    "\n"
   ]
  },
  {
   "cell_type": "markdown",
   "metadata": {},
   "source": [
    "## Vorgefertigte Datasets"
   ]
  },
  {
   "cell_type": "code",
   "execution_count": 7,
   "metadata": {},
   "outputs": [
    {
     "name": "stdout",
     "output_type": "stream",
     "text": [
      "(237, 4)\n"
     ]
    },
    {
     "data": {
      "text/html": [
       "<div>\n",
       "<style scoped>\n",
       "    .dataframe tbody tr th:only-of-type {\n",
       "        vertical-align: middle;\n",
       "    }\n",
       "\n",
       "    .dataframe tbody tr th {\n",
       "        vertical-align: top;\n",
       "    }\n",
       "\n",
       "    .dataframe thead th {\n",
       "        text-align: right;\n",
       "    }\n",
       "</style>\n",
       "<table border=\"1\" class=\"dataframe\">\n",
       "  <thead>\n",
       "    <tr style=\"text-align: right;\">\n",
       "      <th></th>\n",
       "      <th>Gender</th>\n",
       "      <th>Age Range</th>\n",
       "      <th>Head Size(cm^3)</th>\n",
       "      <th>Brain Weight(grams)</th>\n",
       "    </tr>\n",
       "  </thead>\n",
       "  <tbody>\n",
       "    <tr>\n",
       "      <th>232</th>\n",
       "      <td>2</td>\n",
       "      <td>2</td>\n",
       "      <td>3214</td>\n",
       "      <td>1110</td>\n",
       "    </tr>\n",
       "    <tr>\n",
       "      <th>233</th>\n",
       "      <td>2</td>\n",
       "      <td>2</td>\n",
       "      <td>3394</td>\n",
       "      <td>1215</td>\n",
       "    </tr>\n",
       "    <tr>\n",
       "      <th>234</th>\n",
       "      <td>2</td>\n",
       "      <td>2</td>\n",
       "      <td>3233</td>\n",
       "      <td>1104</td>\n",
       "    </tr>\n",
       "    <tr>\n",
       "      <th>235</th>\n",
       "      <td>2</td>\n",
       "      <td>2</td>\n",
       "      <td>3352</td>\n",
       "      <td>1170</td>\n",
       "    </tr>\n",
       "    <tr>\n",
       "      <th>236</th>\n",
       "      <td>2</td>\n",
       "      <td>2</td>\n",
       "      <td>3391</td>\n",
       "      <td>1120</td>\n",
       "    </tr>\n",
       "  </tbody>\n",
       "</table>\n",
       "</div>"
      ],
      "text/plain": [
       "     Gender  Age Range  Head Size(cm^3)  Brain Weight(grams)\n",
       "232       2          2             3214                 1110\n",
       "233       2          2             3394                 1215\n",
       "234       2          2             3233                 1104\n",
       "235       2          2             3352                 1170\n",
       "236       2          2             3391                 1120"
      ]
     },
     "execution_count": 7,
     "metadata": {},
     "output_type": "execute_result"
    }
   ],
   "source": [
    "# Importing Necessary Libraries\n",
    "%matplotlib inline\n",
    "import numpy as np\n",
    "import pandas as pd\n",
    "import matplotlib.pyplot as plt\n",
    "plt.rcParams['figure.figsize'] = (20.0, 10.0)\n",
    "\n",
    "# Reading Data\n",
    "data = pd.read_csv('data/headbrain.csv')\n",
    "print(data.shape)\n",
    "#data.head()\n",
    "data.tail()"
   ]
  }
 ],
 "metadata": {
  "kernelspec": {
   "display_name": "Python 3",
   "language": "python",
   "name": "python3"
  },
  "language_info": {
   "codemirror_mode": {
    "name": "ipython",
    "version": 3
   },
   "file_extension": ".py",
   "mimetype": "text/x-python",
   "name": "python",
   "nbconvert_exporter": "python",
   "pygments_lexer": "ipython3",
   "version": "3.7.9"
  }
 },
 "nbformat": 4,
 "nbformat_minor": 4
}

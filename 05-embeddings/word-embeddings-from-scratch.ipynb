{
 "cells": [
  {
   "cell_type": "markdown",
   "metadata": {},
   "source": [
    "# creating own array\n",
    "1. initialize array\n",
    "2. fill array\n",
    "3. vizualize array 2-dimensional"
   ]
  },
  {
   "cell_type": "code",
   "execution_count": 1,
   "metadata": {},
   "outputs": [
    {
     "name": "stdout",
     "output_type": "stream",
     "text": [
      "[0 1 2 3]\n",
      "[[ -44.354923   -95.2978   ]\n",
      " [-174.67386     87.660484 ]\n",
      " [ 178.83932     -4.4730515]\n",
      " [ 100.901505  -150.73198  ]]\n"
     ]
    }
   ],
   "source": [
    "# array bauen\n",
    "import numpy as np\n",
    "\n",
    "y=np.array([0, 1, 2, 3])\n",
    "print(y)\n",
    "\n",
    "#entsprechend den ersten 4 embeddings des unten eingelesenen textes: 'human', 'in', 'interface', 'is' \n",
    "X_2d = np.array([[-44.354923, -95.2978], \n",
    "                 [-174.67386, 87.660484], \n",
    "                 [178.83932, -4.4730515], \n",
    "                 [100.901505, -150.73198]])\n",
    "\n",
    "print(X_2d)"
   ]
  },
  {
   "cell_type": "code",
   "execution_count": 3,
   "metadata": {},
   "outputs": [
    {
     "data": {
      "image/png": "[encoded data removed]",
      "text/plain": [
       "<Figure size 1152x1152 with 1 Axes>"
      ]
     },
     "metadata": {
      "needs_background": "light"
     },
     "output_type": "display_data"
    }
   ],
   "source": [
    "from matplotlib import pyplot as plt\n",
    "#from sklearn.manifold import TSNE\n",
    "from sklearn import datasets\n",
    "digits = datasets.load_digits()\n",
    "\n",
    "#2-dimensionales tsne model erstellen\n",
    "#tsne = TSNE(n_components=2, random_state=0)\n",
    "\n",
    "#vizualize as a scatterplott\n",
    "target_ids = range(len(digits.target_names))\n",
    "plt.figure(figsize=(16, 16))\n",
    "colors = 'r', 'g', 'b', 'c'\n",
    "for i, c, label in zip(target_ids, colors, digits.target_names):\n",
    "    plt.scatter(X_2d[y == i, 0], X_2d[y == i, 1], c=c, label=label)\n",
    "plt.legend()\n",
    "plt.show()"
   ]
  },
  {
   "cell_type": "markdown",
   "metadata": {},
   "source": [
    "---\n",
    "## create your own embeddings and vizualize it in s-dim\n",
    "\n",
    "1. initialize model with own tiny dataset\n",
    "2. vizualize model as scatterplott"
   ]
  },
  {
   "cell_type": "code",
   "execution_count": 4,
   "metadata": {},
   "outputs": [],
   "source": [
    "from gensim.models import Word2Vec"
   ]
  },
  {
   "cell_type": "code",
   "execution_count": 5,
   "metadata": {},
   "outputs": [],
   "source": [
    "# dataset\n",
    "#tokenized_sentences = [['human', 'in', 'interface', 'is', 'kind', 'of', 'a', 'computer', 'survey'],['the', 'user', 'as', 'system', 'in' 'response', 'on', 'time', 'and', 'trees', 'and', 'graph', 'as', 'minors']]\n",
    "\n",
    "#or read in text from file\n",
    "f=open('../data/loaded-language.txt','r',errors = 'ignore')\n",
    "raw=f.read()\n",
    "raw = raw.lower()# converts to lowercase"
   ]
  },
  {
   "cell_type": "code",
   "execution_count": 7,
   "metadata": {},
   "outputs": [],
   "source": [
    "#tokenization\n",
    "#import nltk\n",
    "#nltk.download('punkt')\n",
    "\n",
    "#from nltk.tokenize import sent_tokenize\n",
    "#tokenized_text=sent_tokenize(raw)\n",
    "\n",
    "from nltk.tokenize import word_tokenize\n",
    "tokenized_text=word_tokenize(raw)"
   ]
  },
  {
   "cell_type": "code",
   "execution_count": 6,
   "metadata": {},
   "outputs": [
    {
     "name": "stdout",
     "output_type": "stream",
     "text": [
      "['i', 'me', 'my', 'myself', 'we', 'our', 'ours', 'ourselves', 'you', \"you're\", \"you've\", \"you'll\", \"you'd\", 'your', 'yours', 'yourself', 'yourselves', 'he', 'him', 'his', 'himself', 'she', \"she's\", 'her', 'hers', 'herself', 'it', \"it's\", 'its', 'itself', 'they', 'them', 'their', 'theirs', 'themselves', 'what', 'which', 'who', 'whom', 'this', 'that', \"that'll\", 'these', 'those', 'am', 'is', 'are', 'was', 'were', 'be', 'been', 'being', 'have', 'has', 'had', 'having', 'do', 'does', 'did', 'doing', 'a', 'an', 'the', 'and', 'but', 'if', 'or', 'because', 'as', 'until', 'while', 'of', 'at', 'by', 'for', 'with', 'about', 'against', 'between', 'into', 'through', 'during', 'before', 'after', 'above', 'below', 'to', 'from', 'up', 'down', 'in', 'out', 'on', 'off', 'over', 'under', 'again', 'further', 'then', 'once', 'here', 'there', 'when', 'where', 'why', 'how', 'all', 'any', 'both', 'each', 'few', 'more', 'most', 'other', 'some', 'such', 'no', 'nor', 'not', 'only', 'own', 'same', 'so', 'than', 'too', 'very', 's', 't', 'can', 'will', 'just', 'don', \"don't\", 'should', \"should've\", 'now', 'd', 'll', 'm', 'o', 're', 've', 'y', 'ain', 'aren', \"aren't\", 'couldn', \"couldn't\", 'didn', \"didn't\", 'doesn', \"doesn't\", 'hadn', \"hadn't\", 'hasn', \"hasn't\", 'haven', \"haven't\", 'isn', \"isn't\", 'ma', 'mightn', \"mightn't\", 'mustn', \"mustn't\", 'needn', \"needn't\", 'shan', \"shan't\", 'shouldn', \"shouldn't\", 'wasn', \"wasn't\", 'weren', \"weren't\", 'won', \"won't\", 'wouldn', \"wouldn't\"]\n"
     ]
    }
   ],
   "source": [
    "# print stopwords\n",
    "##from nltk.corpus import stopwords\n",
    "##print(stopwords.words('english'))"
   ]
  },
  {
   "cell_type": "code",
   "execution_count": 7,
   "metadata": {},
   "outputs": [
    {
     "name": "stdout",
     "output_type": "stream",
     "text": [
      "['``', 'francis', 'farrell', '’', \"'sinod\", \"'\", 'youth', ',', '#', 'stopthe', 'synod2018', 'last', '5', 'years', 'papacy', ',', 'francis', 'synodal', 'schemers', 'masterfully']\n"
     ]
    }
   ],
   "source": [
    "#extract stopwords\n",
    "'''\n",
    "filtered_sentence = []\n",
    "stop_words = set(stopwords.words('english'))\n",
    "for w in tokenized_text:\n",
    "    if w not in stop_words:\n",
    "        filtered_sentence.append(w)\n",
    "  \n",
    "#print(word_tokens)\n",
    "print(filtered_sentence[0:20])\n",
    "'''"
   ]
  },
  {
   "cell_type": "code",
   "execution_count": 8,
   "metadata": {},
   "outputs": [
    {
     "name": "stdout",
     "output_type": "stream",
     "text": [
      "['``', 'francis', 'and', 'farrell', '’', 's', \"'sinod\", \"'\", 'on', 'the']\n"
     ]
    }
   ],
   "source": [
    "print(tokenized_text[0:10])"
   ]
  },
  {
   "cell_type": "code",
   "execution_count": 9,
   "metadata": {},
   "outputs": [
    {
     "name": "stdout",
     "output_type": "stream",
     "text": [
      "[['``'], ['francis'], ['and'], ['farrell'], ['’'], ['s'], [\"'sinod\"], [\"'\"], ['on'], ['the']]\n"
     ]
    }
   ],
   "source": [
    "# text speziell für word2vec-modell vorbereiten\n",
    "texts = [[text for text in doc.split()] for doc in tokenized_text]\n",
    "print(texts[0:10])"
   ]
  },
  {
   "cell_type": "code",
   "execution_count": 10,
   "metadata": {},
   "outputs": [],
   "source": [
    "# model initialize / train\n",
    "model = Word2Vec(texts, min_count=1, size=100) # 100 is default"
   ]
  },
  {
   "cell_type": "code",
   "execution_count": 11,
   "metadata": {},
   "outputs": [
    {
     "name": "stdout",
     "output_type": "stream",
     "text": [
      "Word2Vec(vocab=20468, size=100, alpha=0.025)\n"
     ]
    }
   ],
   "source": [
    "# print a summary of the model << NACHSEHEN GENAU!!!!\n",
    "##vocab = anzahl der wörter\n",
    "##size = layergröße (wieviele vektoren pro wort)\n",
    "##alpha = vector of error gradients multiplied by the learning rate\n",
    "print(model)"
   ]
  },
  {
   "cell_type": "code",
   "execution_count": 12,
   "metadata": {},
   "outputs": [],
   "source": [
    "# create list from vocab list \n",
    "words = model.wv.vocab.keys()\n",
    "#print(words)"
   ]
  },
  {
   "cell_type": "code",
   "execution_count": 13,
   "metadata": {},
   "outputs": [
    {
     "data": {
      "text/plain": [
       "array([ 0.00458352, -0.0031126 ,  0.0044187 , -0.00391326, -0.00079001,\n",
       "       -0.00263727, -0.00490935, -0.00444549,  0.00444524, -0.00039457,\n",
       "        0.00167107,  0.00466913, -0.00473823, -0.00462411, -0.00183685,\n",
       "       -0.00100735, -0.00336392, -0.00403607, -0.00477133,  0.00064531,\n",
       "        0.0042905 ,  0.00032258, -0.00492937,  0.00399807, -0.00166229,\n",
       "        0.00116016, -0.00353129,  0.00253914, -0.00311437, -0.00414365,\n",
       "        0.0006108 ,  0.00104043, -0.00212878, -0.00336356,  0.0024493 ,\n",
       "       -0.00409501,  0.0003043 ,  0.00139896,  0.00463415, -0.00255664,\n",
       "        0.00178407,  0.00122566,  0.00184466,  0.00113303, -0.00168052,\n",
       "        0.00226672,  0.00077444, -0.00218197,  0.00077747, -0.00110021,\n",
       "        0.00373443,  0.00409735, -0.00401717,  0.00367055, -0.0032223 ,\n",
       "        0.00306832, -0.0022298 , -0.00223066,  0.0040597 ,  0.00477386,\n",
       "       -0.0023811 , -0.00033827,  0.00369878,  0.00123452, -0.00199153,\n",
       "       -0.00444812, -0.00431934, -0.00259846, -0.00279264, -0.00124956,\n",
       "        0.00438544, -0.00327274,  0.00288827,  0.00081016, -0.00058754,\n",
       "        0.00273498,  0.00085914,  0.00274356, -0.00138088, -0.00320609,\n",
       "        0.00316327,  0.0016468 ,  0.00375876,  0.00176914, -0.0006567 ,\n",
       "       -0.00404729,  0.00418635,  0.00362049, -0.00086144, -0.00431023,\n",
       "        0.00281086,  0.0011412 ,  0.00404681, -0.00248807,  0.00338312,\n",
       "        0.00068655, -0.00427283,  0.00161499,  0.0048129 ,  0.00127363],\n",
       "      dtype=float32)"
      ]
     },
     "execution_count": 13,
     "metadata": {},
     "output_type": "execute_result"
    }
   ],
   "source": [
    "# print numpy vektor (100) from word 'as' \n",
    "model.wv['as']"
   ]
  },
  {
   "cell_type": "code",
   "execution_count": 14,
   "metadata": {},
   "outputs": [
    {
     "data": {
      "image/png": "[encoded data removed]",
      "text/plain": [
       "<Figure size 432x288 with 1 Axes>"
      ]
     },
     "metadata": {
      "needs_background": "light"
     },
     "output_type": "display_data"
    },
    {
     "data": {
      "text/plain": [
       "None"
      ]
     },
     "metadata": {},
     "output_type": "display_data"
    }
   ],
   "source": [
    "#create PCA Plptt\n",
    "from sklearn.decomposition import PCA\n",
    "from matplotlib import pyplot\n",
    "\n",
    "X = model.wv[model.wv.vocab]\n",
    "pca = PCA(n_components=2)\n",
    "result = pca.fit_transform(X)\n",
    "# create a scatter plot of the projection\n",
    "pyplot.scatter(result[:, 0], result[:, 1])\n",
    "words = list(model.wv.vocab)\n",
    "for i, word in enumerate(words):\n",
    "\tpyplot.annotate(word, xy=(result[i, 0], result[i, 1]))\n",
    "display(pyplot.show())"
   ]
  },
  {
   "cell_type": "markdown",
   "metadata": {},
   "source": [
    "# fooling around with analogy- und similarity tasks...\n",
    "* examples: https://tedboy.github.io/nlps/generated/generated/gensim.models.Word2Vec.html \n",
    "* more examples...: https://x.st/fooling-around-with-word-embeddings/\n"
   ]
  },
  {
   "cell_type": "markdown",
   "metadata": {},
   "source": [
    "![](../data/wkm.png)"
   ]
  },
  {
   "cell_type": "code",
   "execution_count": null,
   "metadata": {},
   "outputs": [],
   "source": [
    "#Find the top-N most similar words\n",
    "word2vec_result2 = model.most_similar('human', topn=5)\n",
    "print(\"most nearest to human = \", word2vec_result2, \"\\n\")"
   ]
  },
  {
   "cell_type": "code",
   "execution_count": null,
   "metadata": {},
   "outputs": [],
   "source": [
    "# A to B is X to Y\n",
    "# hierzu siehe auch CBOW und skip-gram\n",
    "## Bedeutungen errechnen\n",
    "## calculate: KÖNIG - MANN + FRAU = KÖNIGIN\n",
    "word2vec_result1 = model.most_similar(positive=['human', 'computer'], negative=['user'], topn=10)\n",
    "# topn = wieviele ouputs sollen vorgeschlagen werden?\n",
    "print(\"human - user + computer = \", word2vec_result1, \"\\n\")"
   ]
  },
  {
   "cell_type": "code",
   "execution_count": null,
   "metadata": {},
   "outputs": [],
   "source": [
    "# Which word from the given list doesn’t go with the others?\n",
    "print(model.wv.doesnt_match(\"human survey system and minors\".split()))"
   ]
  },
  {
   "cell_type": "code",
   "execution_count": null,
   "metadata": {},
   "outputs": [],
   "source": [
    "# Compute cosine similarity between two words.\n",
    "print(model.wv.similarity('human', 'life'))"
   ]
  },
  {
   "cell_type": "code",
   "execution_count": null,
   "metadata": {},
   "outputs": [],
   "source": [
    "# Compute cosine similarity between two sets of words\n",
    "sim = model.wv.n_similarity(['user', 'term'], ['life', 'system'])\n",
    "print(\"{:.4f}\".format(sim))"
   ]
  },
  {
   "cell_type": "code",
   "execution_count": null,
   "metadata": {},
   "outputs": [],
   "source": [
    "# A to B is X to Y\n",
    "# hierzu siehe auch CBOW und skip-gram\n",
    "## Bedeutungen errechnen\n",
    "## calculate: KÖNIG - MANN + FRAU = KÖNIGIN\n",
    "word2vec_result1 = model.most_similar(positive=['human', 'computer'], negative=['user'], topn=10)\n",
    "# topn = wieviele ouputs sollen vorgeschlagen werden?\n",
    "print(\"human - user + computer = \", word2vec_result1, \"\\n\")"
   ]
  },
  {
   "cell_type": "code",
   "execution_count": null,
   "metadata": {},
   "outputs": [],
   "source": [
    "import matplotlib.pyplot as plt\n",
    "from sklearn.decomposition import PCA\n",
    "\n",
    "%matplotlib inline\n",
    "plt.rcParams[\"figure.figsize\"] = (18, 10)\n",
    "\n",
    "def plot_words(*words, lines=False):\n",
    "    pca = PCA(n_components=2)\n",
    "    xys = pca.fit_transform([model.wv[w] for w in words])\n",
    "\n",
    "    if lines:\n",
    "        for i in range(0, len(words), 2):\n",
    "            plt.plot(xys[i:i+2, 0], xys[i:i+2, 1])\n",
    "    else:\n",
    "        plt.scatter(*xys.T)\n",
    "\n",
    "    for word, xy in zip(words, xys):\n",
    "        plt.annotate(word, xy, fontsize=20)\n",
    "\n",
    "    return pca\n",
    "\n",
    "plt.title('ähnliche Wörter haben ähnliche Vektoren', fontsize=20)\n",
    "\n",
    "plot_words('response', 'is', 'and', 'in', 'time')"
   ]
  },
  {
   "cell_type": "code",
   "execution_count": null,
   "metadata": {},
   "outputs": [],
   "source": [
    "#Using Pretrained Embeddings\n",
    "#Download glove embeddings. Downloading and accessing this might take up to several minutes.\n",
    "\n",
    "import gensim.downloader as api\n",
    "\n",
    "glove_model = api.load('glove-wiki-gigaword-50')\n",
    "print('model loaded')"
   ]
  },
  {
   "cell_type": "code",
   "execution_count": null,
   "metadata": {},
   "outputs": [],
   "source": [
    "# calculate: (king - man) + woman = ?\n",
    "glove_result = glove_model.most_similar(positive=['woman', 'king'], negative=['man'], topn=1)\n",
    "print(glove_result)"
   ]
  },
  {
   "cell_type": "code",
   "execution_count": null,
   "metadata": {},
   "outputs": [],
   "source": [
    "# calculate N most similar words to \n",
    "glove_model.most_similar(positive=['boy'], topn=10)"
   ]
  }
 ],
 "metadata": {
  "kernelspec": {
   "display_name": "Python 3",
   "language": "python",
   "name": "python3"
  },
  "language_info": {
   "codemirror_mode": {
    "name": "ipython",
    "version": 3
   },
   "file_extension": ".py",
   "mimetype": "text/x-python",
   "name": "python",
   "nbconvert_exporter": "python",
   "pygments_lexer": "ipython3",
   "version": "3.8.8"
  }
 },
 "nbformat": 4,
 "nbformat_minor": 4
}

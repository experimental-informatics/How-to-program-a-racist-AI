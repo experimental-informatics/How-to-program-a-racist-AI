{
 "cells": [
  {
   "cell_type": "markdown",
   "metadata": {},
   "source": [
    "# creating own array\n",
    "1. initialize array\n",
    "2. fill array\n",
    "3. vizualize array 2-dimensional"
   ]
  },
  {
   "cell_type": "code",
   "execution_count": 1,
   "metadata": {},
   "outputs": [
    {
     "name": "stdout",
     "output_type": "stream",
     "text": [
      "[0 1 2 3]\n",
      "[[ -44.354923   -95.2978   ]\n",
      " [-174.67386     87.660484 ]\n",
      " [ 178.83932     -4.4730515]\n",
      " [ 100.901505  -150.73198  ]]\n"
     ]
    }
   ],
   "source": [
    "# array bauen\n",
    "import numpy as np\n",
    "\n",
    "y=np.array([0, 1, 2, 3])\n",
    "print(y)\n",
    "\n",
    "#entsprechend den ersten 4 embeddings des unten eingelesenen textes: 'human', 'in', 'interface', 'is' \n",
    "X_2d = np.array([[-44.354923, -95.2978], \n",
    "                 [-174.67386, 87.660484], \n",
    "                 [178.83932, -4.4730515], \n",
    "                 [100.901505, -150.73198]])\n",
    "\n",
    "print(X_2d)"
   ]
  },
  {
   "cell_type": "code",
   "execution_count": 2,
   "metadata": {},
   "outputs": [
    {
     "data": {
      "text/plain": [
       "<Figure size 1600x1600 with 1 Axes>"
      ]
     },
     "metadata": {},
     "output_type": "display_data"
    }
   ],
   "source": [
    "from matplotlib import pyplot as plt\n",
    "#from sklearn.manifold import TSNE\n",
    "from sklearn import datasets\n",
    "digits = datasets.load_digits()\n",
    "\n",
    "#2-dimensionales tsne model erstellen\n",
    "#tsne = TSNE(n_components=2, random_state=0)\n",
    "\n",
    "#vizualize as a scatterplott\n",
    "target_ids = range(len(digits.target_names))\n",
    "plt.figure(figsize=(16, 16))\n",
    "colors = 'r', 'g', 'b', 'c'\n",
    "for i, c, label in zip(target_ids, colors, digits.target_names):\n",
    "    plt.scatter(X_2d[y == i, 0], X_2d[y == i, 1], c=c, label=label)\n",
    "plt.legend()\n",
    "plt.show()"
   ]
  },
  {
   "cell_type": "markdown",
   "metadata": {},
   "source": [
    "---\n",
    "## create your own embeddings and vizualize it in s-dim\n",
    "\n",
    "1. initialize model with own tiny dataset\n",
    "2. vizualize model as scatterplott"
   ]
  },
  {
   "cell_type": "code",
   "execution_count": 3,
   "metadata": {},
   "outputs": [],
   "source": [
    "from gensim.models import Word2Vec"
   ]
  },
  {
   "cell_type": "code",
   "execution_count": 6,
   "metadata": {},
   "outputs": [],
   "source": [
    "# dataset\n",
    "tokenized_text = [['human', 'in', 'interface', 'is', 'kind', 'of', 'a', 'computer', 'survey'],['the', 'user', 'as', 'system', 'in' 'response', 'on', 'time', 'and', 'trees', 'and', 'graph', 'as', 'minors']]\n",
    "\n",
    "#or read in text from file\n",
    "#f=open('./data/loaded-language.txt','r',errors = 'ignore')\n",
    "#raw=f.read()\n",
    "#raw = raw.lower()# converts to lowercase"
   ]
  },
  {
   "cell_type": "code",
   "execution_count": 5,
   "metadata": {},
   "outputs": [
    {
     "ename": "NameError",
     "evalue": "name 'raw' is not defined",
     "output_type": "error",
     "traceback": [
      "\u001b[0;31m--------------------------------------------------------\u001b[0m",
      "\u001b[0;31mNameError\u001b[0m              Traceback (most recent call last)",
      "\u001b[0;32m<ipython-input-5-81e0dc4c4354>\u001b[0m in \u001b[0;36m<module>\u001b[0;34m\u001b[0m\n\u001b[1;32m      7\u001b[0m \u001b[0;34m\u001b[0m\u001b[0m\n\u001b[1;32m      8\u001b[0m \u001b[0;32mfrom\u001b[0m \u001b[0mnltk\u001b[0m\u001b[0;34m.\u001b[0m\u001b[0mtokenize\u001b[0m \u001b[0;32mimport\u001b[0m \u001b[0mword_tokenize\u001b[0m\u001b[0;34m\u001b[0m\u001b[0;34m\u001b[0m\u001b[0m\n\u001b[0;32m----> 9\u001b[0;31m \u001b[0mtokenized_text\u001b[0m\u001b[0;34m=\u001b[0m\u001b[0mword_tokenize\u001b[0m\u001b[0;34m(\u001b[0m\u001b[0mraw\u001b[0m\u001b[0;34m)\u001b[0m\u001b[0;34m\u001b[0m\u001b[0;34m\u001b[0m\u001b[0m\n\u001b[0m",
      "\u001b[0;31mNameError\u001b[0m: name 'raw' is not defined"
     ]
    }
   ],
   "source": [
    "#tokenization\n",
    "#import nltk\n",
    "#nltk.download('punkt')\n",
    "\n",
    "##from nltk.tokenize import word_tokenize\n",
    "##tokenized_text=word_tokenize(raw)"
   ]
  },
  {
   "cell_type": "code",
   "execution_count": null,
   "metadata": {},
   "outputs": [],
   "source": [
    "# print stopwords\n",
    "##from nltk.corpus import stopwords\n",
    "##print(stopwords.words('english'))"
   ]
  },
  {
   "cell_type": "code",
   "execution_count": null,
   "metadata": {},
   "outputs": [],
   "source": [
    "#extract stopwords\n",
    "'''\n",
    "filtered_sentence = []\n",
    "stop_words = set(stopwords.words('english'))\n",
    "for w in tokenized_text:\n",
    "    if w not in stop_words:\n",
    "        filtered_sentence.append(w)\n",
    "  \n",
    "#print(word_tokens)\n",
    "print(filtered_sentence[0:20])\n",
    "'''"
   ]
  },
  {
   "cell_type": "code",
   "execution_count": 7,
   "metadata": {},
   "outputs": [
    {
     "name": "stdout",
     "output_type": "stream",
     "text": [
      "[['human', 'in', 'interface', 'is', 'kind', 'of', 'a', 'computer', 'survey'], ['the', 'user', 'as', 'system', 'inresponse', 'on', 'time', 'and', 'trees', 'and', 'graph', 'as', 'minors']]\n"
     ]
    }
   ],
   "source": [
    "print(tokenized_text[0:10])"
   ]
  },
  {
   "cell_type": "code",
   "execution_count": 9,
   "metadata": {},
   "outputs": [],
   "source": [
    "# text speziell für word2vec-modell vorbereiten\n",
    "##texts = [[text for text in doc.split()] for doc in tokenized_text]\n",
    "##print(texts[0:10])"
   ]
  },
  {
   "cell_type": "code",
   "execution_count": 11,
   "metadata": {},
   "outputs": [],
   "source": [
    "# model initialize / train\n",
    "model = Word2Vec(tokenized_text, min_count=1, size=100) # 100 is default\n",
    "#model = Word2Vec(texts, min_count=1, size=100) # 100 is default"
   ]
  },
  {
   "cell_type": "code",
   "execution_count": 12,
   "metadata": {},
   "outputs": [
    {
     "name": "stdout",
     "output_type": "stream",
     "text": [
      "Word2Vec(vocab=20, size=100, alpha=0.025)\n"
     ]
    }
   ],
   "source": [
    "# print a summary of the model << NACHSEHEN GENAU!!!!\n",
    "##vocab = anzahl der wörter\n",
    "##size = layergröße (wieviele vektoren pro wort)\n",
    "##alpha = vector of error gradients multiplied by the learning rate\n",
    "print(model)"
   ]
  },
  {
   "cell_type": "code",
   "execution_count": 13,
   "metadata": {},
   "outputs": [],
   "source": [
    "# create list from vocab list \n",
    "words = model.wv.vocab.keys()\n",
    "#print(words)"
   ]
  },
  {
   "cell_type": "code",
   "execution_count": 14,
   "metadata": {},
   "outputs": [
    {
     "data": {
      "text/plain": [
       "array([ 2.3197703e-04, -3.4842470e-03,  4.3548723e-03, -9.1740867e-04,\n",
       "        1.5919828e-03,  1.1957303e-03,  2.9863082e-04,  3.1398045e-04,\n",
       "        5.5721775e-05,  1.0373498e-03,  1.7808521e-03,  7.9464912e-04,\n",
       "        3.8420516e-03,  2.5397514e-05, -1.4718834e-03,  1.8323233e-03,\n",
       "       -8.4734456e-05,  4.0097325e-04,  1.1840438e-03, -3.5856792e-04,\n",
       "        3.5010057e-04,  4.8847385e-03, -3.2534476e-04,  3.2471828e-03,\n",
       "       -1.8814696e-03, -2.3182812e-03,  5.9616729e-04,  4.0773680e-03,\n",
       "       -3.6658025e-03,  3.5856543e-03,  2.0142072e-03,  4.8610824e-03,\n",
       "        3.0670881e-03, -4.7285571e-03, -3.4027721e-03,  2.3180221e-03,\n",
       "        1.6012040e-03,  1.8371091e-03, -3.6559976e-03,  4.2298858e-04,\n",
       "       -2.8664262e-03, -3.6640832e-04,  3.4830240e-03,  4.4149389e-03,\n",
       "       -2.3793825e-03,  3.6273149e-03,  1.9921314e-03,  2.5132778e-03,\n",
       "       -3.9569990e-04,  3.2784364e-03,  4.3480317e-04,  1.0099513e-03,\n",
       "       -3.2438471e-03,  3.6473388e-03, -3.8442044e-03, -1.0294286e-03,\n",
       "        2.5098817e-03,  1.4394625e-05,  1.6295500e-03,  2.9115842e-03,\n",
       "        1.6696822e-04, -2.1856450e-03,  4.2797620e-03,  1.9441335e-03,\n",
       "        4.0718596e-03,  3.8104476e-03, -9.0353999e-05,  1.6955741e-03,\n",
       "        2.2662135e-03, -4.1075135e-03, -2.6201189e-03, -3.1916818e-03,\n",
       "        4.4629727e-03, -3.7351686e-03, -4.1483636e-03,  2.1916272e-03,\n",
       "        3.0493275e-03, -4.2919829e-03, -4.4903552e-04,  2.0393846e-03,\n",
       "        3.8806279e-04,  1.4899602e-03, -2.9302521e-03,  3.5688705e-03,\n",
       "       -1.4742747e-03,  2.3401559e-03,  2.2309185e-03, -7.2300836e-04,\n",
       "        1.4762214e-03,  4.7720559e-03, -3.0667372e-03,  1.4776981e-03,\n",
       "       -2.3416514e-03, -2.0382258e-03, -2.1529272e-03, -1.5509448e-05,\n",
       "       -1.6009138e-03,  3.1674205e-04, -1.1375319e-03,  1.9579080e-03],\n",
       "      dtype=float32)"
      ]
     },
     "execution_count": 14,
     "metadata": {},
     "output_type": "execute_result"
    }
   ],
   "source": [
    "# print numpy vektor (100) from word 'as' \n",
    "model.wv['as']"
   ]
  },
  {
   "cell_type": "code",
   "execution_count": 16,
   "metadata": {},
   "outputs": [
    {
     "data": {
      "text/plain": [
       "'\\n#create PCA Plptt\\nfrom sklearn.decomposition import PCA\\nfrom matplotlib import pyplot\\n\\nX = model.wv[model.wv.vocab]\\npca = PCA(n_components=2)\\nresult = pca.fit_transform(X)\\n# create a scatter plot of the projection\\npyplot.scatter(result[:, 0], result[:, 1])\\nwords = list(model.wv.vocab)\\nfor i, word in enumerate(words):\\n\\tpyplot.annotate(word, xy=(result[i, 0], result[i, 1]))\\ndisplay(pyplot.show())'"
      ]
     },
     "execution_count": 16,
     "metadata": {},
     "output_type": "execute_result"
    },
    {
     "data": {
      "image/png": "[encoded data removed]",
      "text/plain": [
       "<Figure size 864x864 with 1 Axes>"
      ]
     },
     "metadata": {
      "needs_background": "light"
     },
     "output_type": "display_data"
    }
   ],
   "source": [
    "from sklearn.decomposition import PCA\n",
    "from matplotlib import pyplot\n",
    "\n",
    "X = model.wv[model.wv.vocab]\n",
    "# windowsize\n",
    "fig= pyplot.figure(figsize=(12,12))\n",
    "pca = PCA(n_components=2)\n",
    "result = pca.fit_transform(X)\n",
    "# create a scatter plot of the projection\n",
    "pyplot.scatter(result[:, 0], result[:, 1])\n",
    "words = list(model.wv.vocab)\n",
    "for i, word in enumerate(words):\n",
    "\tpyplot.annotate(word, xy=(result[i, 0], result[i, 1]))\n",
    "#display(pyplot.show())\n",
    "'''\n",
    "#create PCA Plptt\n",
    "from sklearn.decomposition import PCA\n",
    "from matplotlib import pyplot\n",
    "\n",
    "X = model.wv[model.wv.vocab]\n",
    "pca = PCA(n_components=2)\n",
    "result = pca.fit_transform(X)\n",
    "# create a scatter plot of the projection\n",
    "pyplot.scatter(result[:, 0], result[:, 1])\n",
    "words = list(model.wv.vocab)\n",
    "for i, word in enumerate(words):\n",
    "\tpyplot.annotate(word, xy=(result[i, 0], result[i, 1]))\n",
    "display(pyplot.show())'''"
   ]
  },
  {
   "cell_type": "markdown",
   "metadata": {},
   "source": [
    "# fooling around with analogy- und similarity tasks...\n",
    "* examples: https://tedboy.github.io/nlps/generated/generated/gensim.models.Word2Vec.html \n",
    "* more examples...: https://x.st/fooling-around-with-word-embeddings/\n"
   ]
  },
  {
   "cell_type": "markdown",
   "metadata": {},
   "source": [
    "![](./data/wkm.png)"
   ]
  },
  {
   "cell_type": "code",
   "execution_count": 20,
   "metadata": {},
   "outputs": [
    {
     "name": "stdout",
     "output_type": "stream",
     "text": [
      "most nearest to human =  [('in', 0.20653988420963287), ('trees', 0.1463388055562973), ('graph', 0.12232445925474167), ('minors', 0.09307461977005005), ('survey', 0.09191098064184189)] \n",
      "\n"
     ]
    },
    {
     "name": "stderr",
     "output_type": "stream",
     "text": [
      "<ipython-input-20-69cc50575927>:2: DeprecationWarning: Call to deprecated `most_similar` (Method will be removed in 4.0.0, use self.wv.most_similar() instead).\n",
      "  word2vec_result2 = model.most_similar('human', topn=5)\n"
     ]
    }
   ],
   "source": [
    "#Find the top-N most similar words\n",
    "word2vec_result2 = model.most_similar('human', topn=5)\n",
    "print(\"most nearest to human = \", word2vec_result2, \"\\n\")"
   ]
  },
  {
   "cell_type": "code",
   "execution_count": 18,
   "metadata": {},
   "outputs": [
    {
     "name": "stdout",
     "output_type": "stream",
     "text": [
      "human - user + computer =  [('a', 0.1317022442817688), ('survey', 0.08042550086975098), ('graph', 0.07071553170681), ('system', 0.050016917288303375), ('inresponse', 0.04626525938510895), ('kind', 0.04362256079912186), ('trees', 0.03173617273569107), ('and', 0.008522436022758484), ('on', 0.007028833031654358), ('in', 0.005335833877325058)] \n",
      "\n"
     ]
    },
    {
     "name": "stderr",
     "output_type": "stream",
     "text": [
      "<ipython-input-18-0fd8bfd212d7>:5: DeprecationWarning: Call to deprecated `most_similar` (Method will be removed in 4.0.0, use self.wv.most_similar() instead).\n",
      "  word2vec_result1 = model.most_similar(positive=['human', 'computer'], negative=['user'], topn=10)\n"
     ]
    }
   ],
   "source": [
    "# A to B is X to Y\n",
    "# hierzu siehe auch CBOW und skip-gram\n",
    "## Bedeutungen errechnen\n",
    "## calculate: KÖNIG - MANN + FRAU = KÖNIGIN\n",
    "word2vec_result1 = model.most_similar(positive=['human', 'computer'], negative=['user'], topn=10)\n",
    "# topn = wieviele ouputs sollen vorgeschlagen werden?\n",
    "print(\"human - user + computer = \", word2vec_result1, \"\\n\")"
   ]
  },
  {
   "cell_type": "code",
   "execution_count": 19,
   "metadata": {},
   "outputs": [
    {
     "name": "stdout",
     "output_type": "stream",
     "text": [
      "system\n"
     ]
    },
    {
     "name": "stderr",
     "output_type": "stream",
     "text": [
      "/home/whoami/anaconda3/lib/python3.8/site-packages/gensim/models/keyedvectors.py:876: FutureWarning: arrays to stack must be passed as a \"sequence\" type such as list or tuple. Support for non-sequence iterables such as generators is deprecated as of NumPy 1.16 and will raise an error in the future.\n",
      "  vectors = vstack(self.word_vec(word, use_norm=True) for word in used_words).astype(REAL)\n"
     ]
    }
   ],
   "source": [
    "# Which word from the given list doesn’t go with the others?\n",
    "print(model.wv.doesnt_match(\"human survey system and minors\".split()))"
   ]
  },
  {
   "cell_type": "code",
   "execution_count": 24,
   "metadata": {},
   "outputs": [
    {
     "name": "stdout",
     "output_type": "stream",
     "text": [
      "human - user + computer =  [('a', 0.1317022442817688), ('survey', 0.08042550086975098), ('graph', 0.07071553170681), ('system', 0.050016917288303375), ('inresponse', 0.04626525938510895), ('kind', 0.04362256079912186), ('trees', 0.03173617273569107), ('and', 0.008522436022758484), ('on', 0.007028833031654358), ('in', 0.005335833877325058)] \n",
      "\n"
     ]
    },
    {
     "name": "stderr",
     "output_type": "stream",
     "text": [
      "<ipython-input-24-0fd8bfd212d7>:5: DeprecationWarning: Call to deprecated `most_similar` (Method will be removed in 4.0.0, use self.wv.most_similar() instead).\n",
      "  word2vec_result1 = model.most_similar(positive=['human', 'computer'], negative=['user'], topn=10)\n"
     ]
    }
   ],
   "source": [
    "# A to B is X to Y\n",
    "# hierzu siehe auch CBOW und skip-gram\n",
    "## Bedeutungen errechnen\n",
    "## calculate: KÖNIG - MANN + FRAU = KÖNIGIN\n",
    "word2vec_result1 = model.most_similar(positive=['human', 'computer'], negative=['user'], topn=10)\n",
    "# topn = wieviele ouputs sollen vorgeschlagen werden?\n",
    "print(\"human - user + computer = \", word2vec_result1, \"\\n\")"
   ]
  },
  {
   "cell_type": "code",
   "execution_count": 27,
   "metadata": {},
   "outputs": [
    {
     "data": {
      "text/plain": [
       "PCA(n_components=2)"
      ]
     },
     "execution_count": 27,
     "metadata": {},
     "output_type": "execute_result"
    },
    {
     "data": {
      "image/png": "[encoded data removed]",
      "text/plain": [
       "<Figure size 1296x720 with 1 Axes>"
      ]
     },
     "metadata": {
      "needs_background": "light"
     },
     "output_type": "display_data"
    }
   ],
   "source": [
    "import matplotlib.pyplot as plt\n",
    "from sklearn.decomposition import PCA\n",
    "\n",
    "%matplotlib inline\n",
    "plt.rcParams[\"figure.figsize\"] = (18, 10)\n",
    "\n",
    "def plot_words(*words, lines=False):\n",
    "    pca = PCA(n_components=2)\n",
    "    xys = pca.fit_transform([model.wv[w] for w in words])\n",
    "\n",
    "    if lines:\n",
    "        for i in range(0, len(words), 2):\n",
    "            plt.plot(xys[i:i+2, 0], xys[i:i+2, 1])\n",
    "    else:\n",
    "        plt.scatter(*xys.T)\n",
    "\n",
    "    for word, xy in zip(words, xys):\n",
    "        plt.annotate(word, xy, fontsize=20)\n",
    "\n",
    "    return pca\n",
    "\n",
    "plt.title('ähnliche Wörter haben ähnliche Vektoren', fontsize=20)\n",
    "\n",
    "plot_words('human', 'user', 'system', 'computer')"
   ]
  },
  {
   "cell_type": "code",
   "execution_count": 28,
   "metadata": {},
   "outputs": [
    {
     "name": "stdout",
     "output_type": "stream",
     "text": [
      "model loaded\n"
     ]
    }
   ],
   "source": [
    "#Using Pretrained Embeddings\n",
    "#Download glove embeddings. Downloading and accessing this might take up to several minutes.\n",
    "\n",
    "import gensim.downloader as api\n",
    "\n",
    "glove_model = api.load('glove-wiki-gigaword-50')\n",
    "print('model loaded')"
   ]
  },
  {
   "cell_type": "code",
   "execution_count": 29,
   "metadata": {},
   "outputs": [
    {
     "name": "stdout",
     "output_type": "stream",
     "text": [
      "[('queen', 0.8523603677749634)]\n"
     ]
    }
   ],
   "source": [
    "# calculate: (king - man) + woman = ?\n",
    "glove_result = glove_model.most_similar(positive=['woman', 'king'], negative=['man'], topn=1)\n",
    "print(glove_result)"
   ]
  },
  {
   "cell_type": "code",
   "execution_count": 30,
   "metadata": {},
   "outputs": [
    {
     "name": "stdout",
     "output_type": "stream",
     "text": [
      "[('wearing', 0.7007260918617249)]\n"
     ]
    }
   ],
   "source": [
    "# calculate: (black - money) + gun = ?\n",
    "glove_result = glove_model.most_similar(positive=['gun', 'black'], negative=['money'], topn=1)\n",
    "print(glove_result)"
   ]
  },
  {
   "cell_type": "code",
   "execution_count": 31,
   "metadata": {},
   "outputs": [
    {
     "name": "stdout",
     "output_type": "stream",
     "text": [
      "[('doctor', 0.8087942600250244)]\n"
     ]
    }
   ],
   "source": [
    "glove_result = glove_model.most_similar(positive=['man', 'nurse'], negative=['woman'], topn=1)\n",
    "print(glove_result)"
   ]
  },
  {
   "cell_type": "code",
   "execution_count": 32,
   "metadata": {},
   "outputs": [
    {
     "data": {
      "text/plain": [
       "[('muslims', 0.9169793128967285),\n",
       " ('moslem', 0.9101653695106506),\n",
       " ('islamic', 0.8865490555763245),\n",
       " ('shiite', 0.8608403205871582),\n",
       " ('sunni', 0.8565249443054199),\n",
       " ('christians', 0.8442628383636475),\n",
       " ('religious', 0.8278148174285889),\n",
       " ('arab', 0.821909487247467),\n",
       " ('fundamentalist', 0.8166921734809875),\n",
       " ('clerics', 0.8147090077400208),\n",
       " ('shiites', 0.8115920424461365),\n",
       " ('moslems', 0.8096585273742676),\n",
       " ('kurdish', 0.8091631531715393),\n",
       " ('islam', 0.8036206960678101),\n",
       " ('fundamentalists', 0.8004118800163269),\n",
       " ('militant', 0.7967327833175659),\n",
       " ('arabs', 0.7741754055023193),\n",
       " ('protestant', 0.7729413509368896),\n",
       " ('extremists', 0.772925615310669),\n",
       " ('ethnic', 0.7613723278045654),\n",
       " ('tribal', 0.760925829410553),\n",
       " ('kashmiri', 0.7570258975028992),\n",
       " ('hindus', 0.7557337284088135),\n",
       " ('secular', 0.7544103264808655),\n",
       " ('orthodox', 0.7525961995124817),\n",
       " ('kurds', 0.7521689534187317),\n",
       " ('predominantly', 0.751596987247467),\n",
       " ('followers', 0.7512257099151611),\n",
       " ('shia', 0.7473584413528442),\n",
       " (\"shi'ite\", 0.7445866465568542)]"
      ]
     },
     "execution_count": 32,
     "metadata": {},
     "output_type": "execute_result"
    }
   ],
   "source": [
    "# calculate N most similar words to \n",
    "glove_model.most_similar(positive=['muslim'], topn=30)"
   ]
  }
 ],
 "metadata": {
  "kernelspec": {
   "display_name": "Python 3",
   "language": "python",
   "name": "python3"
  },
  "language_info": {
   "codemirror_mode": {
    "name": "ipython",
    "version": 3
   },
   "file_extension": ".py",
   "mimetype": "text/x-python",
   "name": "python",
   "nbconvert_exporter": "python",
   "pygments_lexer": "ipython3",
   "version": "3.8.8"
  }
 },
 "nbformat": 4,
 "nbformat_minor": 4
}

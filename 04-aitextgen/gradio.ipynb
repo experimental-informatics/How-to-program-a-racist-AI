{
 "cells": [
  {
   "cell_type": "code",
   "execution_count": 3,
   "metadata": {},
   "outputs": [
    {
     "name": "stdout",
     "output_type": "stream",
     "text": [
      "Requirement already satisfied: gradio in /Users/AprilCoffee/opt/anaconda3/lib/python3.8/site-packages (3.0.5)\n",
      "Requirement already satisfied: matplotlib in /Users/AprilCoffee/opt/anaconda3/lib/python3.8/site-packages (from gradio) (3.2.2)\n",
      "Requirement already satisfied: orjson in /Users/AprilCoffee/opt/anaconda3/lib/python3.8/site-packages (from gradio) (3.6.8)\n",
      "Requirement already satisfied: pillow in /Users/AprilCoffee/opt/anaconda3/lib/python3.8/site-packages (from gradio) (9.0.1)\n",
      "Requirement already satisfied: pandas in /Users/AprilCoffee/opt/anaconda3/lib/python3.8/site-packages (from gradio) (1.3.3)\n",
      "Requirement already satisfied: Jinja2 in /Users/AprilCoffee/opt/anaconda3/lib/python3.8/site-packages (from gradio) (2.11.2)\n",
      "Requirement already satisfied: analytics-python in /Users/AprilCoffee/opt/anaconda3/lib/python3.8/site-packages (from gradio) (1.4.0)\n",
      "Requirement already satisfied: pycryptodome in /Users/AprilCoffee/opt/anaconda3/lib/python3.8/site-packages (from gradio) (3.14.1)\n",
      "Requirement already satisfied: python-multipart in /Users/AprilCoffee/opt/anaconda3/lib/python3.8/site-packages (from gradio) (0.0.5)\n",
      "Requirement already satisfied: uvicorn in /Users/AprilCoffee/opt/anaconda3/lib/python3.8/site-packages (from gradio) (0.17.6)\n",
      "Requirement already satisfied: markdown-it-py[linkify,plugins] in /Users/AprilCoffee/opt/anaconda3/lib/python3.8/site-packages (from gradio) (0.6.2)\n",
      "Requirement already satisfied: paramiko in /Users/AprilCoffee/opt/anaconda3/lib/python3.8/site-packages (from gradio) (2.11.0)\n",
      "Requirement already satisfied: fastapi in /Users/AprilCoffee/opt/anaconda3/lib/python3.8/site-packages (from gradio) (0.78.0)\n",
      "Requirement already satisfied: pydub in /Users/AprilCoffee/opt/anaconda3/lib/python3.8/site-packages (from gradio) (0.25.1)\n",
      "Requirement already satisfied: aiohttp in /Users/AprilCoffee/opt/anaconda3/lib/python3.8/site-packages (from gradio) (3.8.1)\n",
      "Requirement already satisfied: numpy in /Users/AprilCoffee/opt/anaconda3/lib/python3.8/site-packages (from gradio) (1.18.5)\n",
      "Requirement already satisfied: ffmpy in /Users/AprilCoffee/opt/anaconda3/lib/python3.8/site-packages (from gradio) (0.3.0)\n",
      "Requirement already satisfied: requests in /Users/AprilCoffee/opt/anaconda3/lib/python3.8/site-packages (from gradio) (2.27.1)\n",
      "Requirement already satisfied: yarl<2.0,>=1.0 in /Users/AprilCoffee/opt/anaconda3/lib/python3.8/site-packages (from aiohttp->gradio) (1.7.2)\n",
      "Requirement already satisfied: frozenlist>=1.1.1 in /Users/AprilCoffee/opt/anaconda3/lib/python3.8/site-packages (from aiohttp->gradio) (1.3.0)\n",
      "Requirement already satisfied: aiosignal>=1.1.2 in /Users/AprilCoffee/opt/anaconda3/lib/python3.8/site-packages (from aiohttp->gradio) (1.2.0)\n",
      "Requirement already satisfied: async-timeout<5.0,>=4.0.0a3 in /Users/AprilCoffee/opt/anaconda3/lib/python3.8/site-packages (from aiohttp->gradio) (4.0.2)\n",
      "Requirement already satisfied: attrs>=17.3.0 in /Users/AprilCoffee/opt/anaconda3/lib/python3.8/site-packages (from aiohttp->gradio) (19.3.0)\n",
      "Requirement already satisfied: multidict<7.0,>=4.5 in /Users/AprilCoffee/opt/anaconda3/lib/python3.8/site-packages (from aiohttp->gradio) (6.0.2)\n",
      "Requirement already satisfied: charset-normalizer<3.0,>=2.0 in /Users/AprilCoffee/opt/anaconda3/lib/python3.8/site-packages (from aiohttp->gradio) (2.0.11)\n",
      "Requirement already satisfied: idna>=2.0 in /Users/AprilCoffee/opt/anaconda3/lib/python3.8/site-packages (from yarl<2.0,>=1.0->aiohttp->gradio) (2.10)\n",
      "Requirement already satisfied: python-dateutil>2.1 in /Users/AprilCoffee/opt/anaconda3/lib/python3.8/site-packages (from analytics-python->gradio) (2.8.1)\n",
      "Requirement already satisfied: monotonic>=1.5 in /Users/AprilCoffee/opt/anaconda3/lib/python3.8/site-packages (from analytics-python->gradio) (1.6)\n",
      "Requirement already satisfied: backoff==1.10.0 in /Users/AprilCoffee/opt/anaconda3/lib/python3.8/site-packages (from analytics-python->gradio) (1.10.0)\n",
      "Requirement already satisfied: six>=1.5 in /Users/AprilCoffee/opt/anaconda3/lib/python3.8/site-packages (from analytics-python->gradio) (1.15.0)\n",
      "Requirement already satisfied: certifi>=2017.4.17 in /Users/AprilCoffee/opt/anaconda3/lib/python3.8/site-packages (from requests->gradio) (2022.5.18.1)\n",
      "Requirement already satisfied: urllib3<1.27,>=1.21.1 in /Users/AprilCoffee/opt/anaconda3/lib/python3.8/site-packages (from requests->gradio) (1.26.9)\n",
      "Requirement already satisfied: starlette==0.19.1 in /Users/AprilCoffee/opt/anaconda3/lib/python3.8/site-packages (from fastapi->gradio) (0.19.1)\n",
      "Requirement already satisfied: pydantic!=1.7,!=1.7.1,!=1.7.2,!=1.7.3,!=1.8,!=1.8.1,<2.0.0,>=1.6.2 in /Users/AprilCoffee/opt/anaconda3/lib/python3.8/site-packages (from fastapi->gradio) (1.9.1)\n",
      "Requirement already satisfied: anyio<5,>=3.4.0 in /Users/AprilCoffee/opt/anaconda3/lib/python3.8/site-packages (from starlette==0.19.1->fastapi->gradio) (3.6.1)\n",
      "Requirement already satisfied: typing-extensions>=3.10.0 in /Users/AprilCoffee/opt/anaconda3/lib/python3.8/site-packages (from starlette==0.19.1->fastapi->gradio) (4.0.1)\n",
      "Requirement already satisfied: sniffio>=1.1 in /Users/AprilCoffee/opt/anaconda3/lib/python3.8/site-packages (from anyio<5,>=3.4.0->starlette==0.19.1->fastapi->gradio) (1.2.0)\n",
      "Requirement already satisfied: MarkupSafe>=0.23 in /Users/AprilCoffee/opt/anaconda3/lib/python3.8/site-packages (from Jinja2->gradio) (1.1.1)\n",
      "\u001b[33mWARNING: markdown-it-py 0.6.2 does not provide the extra 'plugins'\u001b[0m\n",
      "Requirement already satisfied: mdit-py-plugins~=0.2.1 in /Users/AprilCoffee/opt/anaconda3/lib/python3.8/site-packages (from markdown-it-py[linkify,plugins]->gradio) (0.2.6)\n",
      "Requirement already satisfied: linkify-it-py~=1.0 in /Users/AprilCoffee/opt/anaconda3/lib/python3.8/site-packages (from markdown-it-py[linkify,plugins]->gradio) (1.0.1)\n",
      "Requirement already satisfied: uc-micro-py in /Users/AprilCoffee/opt/anaconda3/lib/python3.8/site-packages (from linkify-it-py~=1.0->markdown-it-py[linkify,plugins]->gradio) (1.0.1)\n",
      "Requirement already satisfied: kiwisolver>=1.0.1 in /Users/AprilCoffee/opt/anaconda3/lib/python3.8/site-packages (from matplotlib->gradio) (1.2.0)\n",
      "Requirement already satisfied: cycler>=0.10 in /Users/AprilCoffee/opt/anaconda3/lib/python3.8/site-packages (from matplotlib->gradio) (0.10.0)\n",
      "Requirement already satisfied: pyparsing!=2.0.4,!=2.1.2,!=2.1.6,>=2.0.1 in /Users/AprilCoffee/opt/anaconda3/lib/python3.8/site-packages (from matplotlib->gradio) (2.4.7)\n",
      "Requirement already satisfied: pytz>=2017.3 in /Users/AprilCoffee/opt/anaconda3/lib/python3.8/site-packages (from pandas->gradio) (2020.1)\n",
      "Requirement already satisfied: cryptography>=2.5 in /Users/AprilCoffee/opt/anaconda3/lib/python3.8/site-packages (from paramiko->gradio) (3.4.8)\n",
      "Requirement already satisfied: pynacl>=1.0.1 in /Users/AprilCoffee/opt/anaconda3/lib/python3.8/site-packages (from paramiko->gradio) (1.5.0)\n",
      "Requirement already satisfied: bcrypt>=3.1.3 in /Users/AprilCoffee/opt/anaconda3/lib/python3.8/site-packages (from paramiko->gradio) (3.2.2)\n",
      "Requirement already satisfied: cffi>=1.1 in /Users/AprilCoffee/opt/anaconda3/lib/python3.8/site-packages (from bcrypt>=3.1.3->paramiko->gradio) (1.14.0)\n",
      "Requirement already satisfied: pycparser in /Users/AprilCoffee/opt/anaconda3/lib/python3.8/site-packages (from cffi>=1.1->bcrypt>=3.1.3->paramiko->gradio) (2.20)\n",
      "Requirement already satisfied: asgiref>=3.4.0 in /Users/AprilCoffee/opt/anaconda3/lib/python3.8/site-packages (from uvicorn->gradio) (3.5.2)\n",
      "Requirement already satisfied: h11>=0.8 in /Users/AprilCoffee/opt/anaconda3/lib/python3.8/site-packages (from uvicorn->gradio) (0.13.0)\n",
      "Requirement already satisfied: click>=7.0 in /Users/AprilCoffee/opt/anaconda3/lib/python3.8/site-packages (from uvicorn->gradio) (7.1.2)\n",
      "\u001b[33mWARNING: You are using pip version 21.1.2; however, version 22.1.1 is available.\n",
      "You should consider upgrading via the '/Users/AprilCoffee/opt/anaconda3/bin/python -m pip install --upgrade pip' command.\u001b[0m\n"
     ]
    }
   ],
   "source": [
    "!pip install gradio"
   ]
  },
  {
   "cell_type": "code",
   "execution_count": 2,
   "metadata": {},
   "outputs": [
    {
     "name": "stdout",
     "output_type": "stream",
     "text": [
      "Running on local URL:  http://127.0.0.1:7861/\n",
      "\n",
      "To create a public link, set `share=True` in `launch()`.\n"
     ]
    },
    {
     "data": {
      "text/html": [
       "\n",
       "        <iframe\n",
       "            width=\"900\"\n",
       "            height=\"500\"\n",
       "            src=\"http://127.0.0.1:7861/\"\n",
       "            frameborder=\"0\"\n",
       "            allowfullscreen\n",
       "        ></iframe>\n",
       "        "
      ],
      "text/plain": [
       "<IPython.lib.display.IFrame at 0x7f7fd1cbe1c0>"
      ]
     },
     "metadata": {},
     "output_type": "display_data"
    },
    {
     "data": {
      "text/plain": [
       "(<gradio.routes.App at 0x7f7ff0c71160>, 'http://127.0.0.1:7861/', None)"
      ]
     },
     "execution_count": 2,
     "metadata": {},
     "output_type": "execute_result"
    },
    {
     "name": "stderr",
     "output_type": "stream",
     "text": [
      "Traceback (most recent call last):\n",
      "  File \"/Users/AprilCoffee/opt/anaconda3/lib/python3.8/site-packages/gradio/routes.py\", line 280, in predict\n",
      "    output = await app.blocks.process_api(body, username, session_state)\n",
      "  File \"/Users/AprilCoffee/opt/anaconda3/lib/python3.8/site-packages/gradio/blocks.py\", line 291, in process_api\n",
      "    prediction_value = predictions[i]\n",
      "IndexError: list index out of range\n"
     ]
    }
   ],
   "source": [
    "import gradio as gr\n",
    "\n",
    "def question_answer(context, question):\n",
    "    pass  # Implement your question-answering model here...\n",
    "\n",
    "gr.Interface(fn=question_answer, inputs=[\"text\", \"text\"], outputs=[\"textbox\", \"text\"]).launch()"
   ]
  },
  {
   "cell_type": "code",
   "execution_count": null,
   "metadata": {},
   "outputs": [],
   "source": []
  }
 ],
 "metadata": {
  "kernelspec": {
   "display_name": "Python 3",
   "language": "python",
   "name": "python3"
  },
  "language_info": {
   "codemirror_mode": {
    "name": "ipython",
    "version": 3
   },
   "file_extension": ".py",
   "mimetype": "text/x-python",
   "name": "python",
   "nbconvert_exporter": "python",
   "pygments_lexer": "ipython3",
   "version": "3.8.8"
  }
 },
 "nbformat": 4,
 "nbformat_minor": 4
}

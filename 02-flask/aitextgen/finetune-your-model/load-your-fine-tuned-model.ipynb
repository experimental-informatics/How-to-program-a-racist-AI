{
 "cells": [
  {
   "cell_type": "markdown",
   "metadata": {},
   "source": [
    "# Load fine-tuned model and generate text"
   ]
  },
  {
   "cell_type": "code",
   "execution_count": 1,
   "metadata": {},
   "outputs": [],
   "source": [
    "from aitextgen import aitextgen"
   ]
  },
  {
   "cell_type": "markdown",
   "metadata": {},
   "source": [
    "### load the retrained model from folder"
   ]
  },
  {
   "cell_type": "code",
   "execution_count": 3,
   "metadata": {},
   "outputs": [],
   "source": [
    "#ai = aitextgen(model_folder=\"trained_model\", to_gpu=True)\n",
    "# or\n",
    "ai = aitextgen(model_folder=\"trained_model\", to_gpu=False)"
   ]
  },
  {
   "cell_type": "markdown",
   "metadata": {},
   "source": [
    "### now generate text from the finetuned model"
   ]
  },
  {
   "cell_type": "code",
   "execution_count": 4,
   "metadata": {},
   "outputs": [],
   "source": [
    "generated = ai.generate_one()"
   ]
  },
  {
   "cell_type": "code",
   "execution_count": 5,
   "metadata": {},
   "outputs": [
    {
     "name": "stdout",
     "output_type": "stream",
     "text": [
      "We give out that universally available blessing.\n",
      "There, always, when it be known, it never happened.\n",
      "The viner writes that the blessing of couples “offers an occasion to express love.”\n",
      "The viner alsoed out the possibility that “one could receive two faces in the room, show them in the midst of a morally wicked team of problems.”\n",
      "Moreover, the neighbor’s claims that it happened to them alone and their families that it be able to find them alone.\n",
      "This email continues to be even more credible in noting that they were not concerned about Bergoglio’s relentless assault on traditional Catholic doctrine and practice—to their credit.\n",
      "Moreover, the above-mentioned email of course has no history of admitting jihad preachers without a moment of hesitation.\n",
      "The jiner writes that this “human intervention” cost a lives of hesitation and repentance before ISIS’s outset.\n",
      "Indeed, both of these are true.\n",
      "There are plenty of them in the hierarchy, in the well-reigned Novus Ordo status quo.\n",
      "But whether or not - or not - these days are effective, the Italian philosopher, Rudolph Wuerl, Italian philosopher who speaks on\n"
     ]
    }
   ],
   "source": []
  },
  {
   "cell_type": "code",
   "execution_count": null,
   "metadata": {},
   "outputs": [],
   "source": []
  }
 ],
 "metadata": {
  "kernelspec": {
   "display_name": "Python 3",
   "language": "python",
   "name": "python3"
  },
  "language_info": {
   "codemirror_mode": {
    "name": "ipython",
    "version": 3
   },
   "file_extension": ".py",
   "mimetype": "text/x-python",
   "name": "python",
   "nbconvert_exporter": "python",
   "pygments_lexer": "ipython3",
   "version": "3.8.3"
  }
 },
 "nbformat": 4,
 "nbformat_minor": 5
}

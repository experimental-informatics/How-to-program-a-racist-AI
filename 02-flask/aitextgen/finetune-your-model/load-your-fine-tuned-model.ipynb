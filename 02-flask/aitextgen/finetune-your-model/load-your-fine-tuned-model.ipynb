{
 "cells": [
  {
   "cell_type": "markdown",
   "id": "6523834f-3df9-446f-bc63-f7f53269abb7",
   "metadata": {},
   "source": [
    "# Load fine-tuned model and generate text"
   ]
  },
  {
   "cell_type": "code",
   "execution_count": 2,
   "id": "22e131ed-0703-49ca-a280-905d20e65d8e",
   "metadata": {},
   "outputs": [],
   "source": [
    "from aitextgen import aitextgen"
   ]
  },
  {
   "cell_type": "markdown",
   "id": "24c19792-7294-4f08-b328-10fcc18fc041",
   "metadata": {},
   "source": [
    "### load the retrained model from folder"
   ]
  },
  {
   "cell_type": "code",
   "execution_count": 4,
   "id": "c6ce07ff-f2c0-40b2-91bf-0bf007945dd1",
   "metadata": {},
   "outputs": [],
   "source": [
    "ai = aitextgen(model_folder=\"trained_model\", to_gpu=True)\n",
    "# or\n",
    "##ai = aitextgen(model_folder=\"trained_model\", to_gpu=False)"
   ]
  },
  {
   "cell_type": "markdown",
   "id": "6c3bd7a9-c560-42c6-93d9-a875d38e60df",
   "metadata": {},
   "source": [
    "### now generate text from the finetuned model"
   ]
  },
  {
   "cell_type": "code",
   "execution_count": 5,
   "id": "59600b94-9855-460a-a35e-b68801d51d4c",
   "metadata": {},
   "outputs": [
    {
     "data": {
      "text/plain": [
       "\", for that matter, the ranking member of the Judiciary Committee, the ranking member of the Judiciary Committee, the ranking member of the Judiciary Committee, the ranking member of the Judiciary Committee, the ranking member of the Judiciary Committee, the ranking member of the Judiciary Committee, the ranking member of the Judiciary Committee, the ranking member of the Judiciary Committee, the ranking member of the Judiciary Committee, the ranking member of the Judiciary Committee, the ranking member of the Senate Judiciary Committee, the ranking member of the Majority Leader, Dianne Feinstein, Mark Judge, comedy,Let's Senate Judiciary Committee!\\nA postpone the vote by mailers of the future Democratic Party, a Democrat majority plans to torpedo President Trump’s agenda to block the nominee from sitting on the high court when he succeeded Sambi succeeds his good name.\\nTrump himself threatened to character assassination if Kavanaugh quickly – who became a Sunday column and later appointed to Sunday, there will be a dramatic vote this Novus Ordo on Thursday.\\nWe’ll see it in the next few logical steps below will continue to evaluate the Kavanaugh assassination as a typical American prison conduct, even use Google, before he was a law student.\\nIn this case, Ford provided Ford in a Washington Post interview with her father works classmate\""
      ]
     },
     "execution_count": 5,
     "metadata": {},
     "output_type": "execute_result"
    }
   ],
   "source": [
    "ai.generate_one()"
   ]
  }
 ],
 "metadata": {
  "kernelspec": {
   "display_name": "Python 3 (ipykernel)",
   "language": "python",
   "name": "python3"
  },
  "language_info": {
   "codemirror_mode": {
    "name": "ipython",
    "version": 3
   },
   "file_extension": ".py",
   "mimetype": "text/x-python",
   "name": "python",
   "nbconvert_exporter": "python",
   "pygments_lexer": "ipython3",
   "version": "3.8.13"
  }
 },
 "nbformat": 4,
 "nbformat_minor": 5
}
